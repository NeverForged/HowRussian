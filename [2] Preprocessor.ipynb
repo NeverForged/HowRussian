{
 "cells": [
  {
   "cell_type": "code",
   "execution_count": 1,
   "metadata": {
    "collapsed": false
   },
   "outputs": [
    {
     "name": "stdout",
     "output_type": "stream",
     "text": [
      "(9656817, 2)\n",
      "(8961258, 2)\n"
     ]
    },
    {
     "data": {
      "text/html": [
       "<div>\n",
       "<style scoped>\n",
       "    .dataframe tbody tr th:only-of-type {\n",
       "        vertical-align: middle;\n",
       "    }\n",
       "\n",
       "    .dataframe tbody tr th {\n",
       "        vertical-align: top;\n",
       "    }\n",
       "\n",
       "    .dataframe thead th {\n",
       "        text-align: right;\n",
       "    }\n",
       "</style>\n",
       "<table border=\"1\" class=\"dataframe\">\n",
       "  <thead>\n",
       "    <tr style=\"text-align: right;\">\n",
       "      <th></th>\n",
       "      <th>Tweet</th>\n",
       "      <th>Category</th>\n",
       "    </tr>\n",
       "  </thead>\n",
       "  <tbody>\n",
       "    <tr>\n",
       "      <th>0</th>\n",
       "      <td>i love lebron. http://bit.ly/PdHur</td>\n",
       "      <td>0</td>\n",
       "    </tr>\n",
       "    <tr>\n",
       "      <th>1</th>\n",
       "      <td>@ludajuice Lebron is a Beast, but I'm still ch...</td>\n",
       "      <td>0</td>\n",
       "    </tr>\n",
       "    <tr>\n",
       "      <th>2</th>\n",
       "      <td>@wordwhizkid Lebron is a beast... nobody in th...</td>\n",
       "      <td>0</td>\n",
       "    </tr>\n",
       "    <tr>\n",
       "      <th>3</th>\n",
       "      <td>Bill Simmons in conversation with Malcolm Glad...</td>\n",
       "      <td>0</td>\n",
       "    </tr>\n",
       "    <tr>\n",
       "      <th>4</th>\n",
       "      <td>playing with Java and the Twitter API</td>\n",
       "      <td>0</td>\n",
       "    </tr>\n",
       "  </tbody>\n",
       "</table>\n",
       "</div>"
      ],
      "text/plain": [
       "                                               Tweet  Category\n",
       "0                 i love lebron. http://bit.ly/PdHur         0\n",
       "1  @ludajuice Lebron is a Beast, but I'm still ch...         0\n",
       "2  @wordwhizkid Lebron is a beast... nobody in th...         0\n",
       "3  Bill Simmons in conversation with Malcolm Glad...         0\n",
       "4              playing with Java and the Twitter API         0"
      ]
     },
     "execution_count": 1,
     "metadata": {},
     "output_type": "execute_result"
    }
   ],
   "source": [
    "import pandas as pd\n",
    "import string\n",
    "import re\n",
    "import nltk\n",
    "import time\n",
    "\n",
    "\n",
    "stopword = nltk.corpus.stopwords.words('english')\n",
    "ps = nltk.PorterStemmer()\n",
    "\n",
    "\n",
    "df = pd.concat([pd.read_csv('data/data_{}.csv'.format(a)) for a in range(10)])\n",
    "print(df.shape)\n",
    "df = df.drop_duplicates()\n",
    "print(df.shape)\n",
    "df.head()\n"
   ]
  },
  {
   "cell_type": "code",
   "execution_count": 2,
   "metadata": {
    "collapsed": false
   },
   "outputs": [
    {
     "data": {
      "text/plain": [
       "647511"
      ]
     },
     "execution_count": 2,
     "metadata": {},
     "output_type": "execute_result"
    }
   ],
   "source": [
    "# retweets?\n",
    "df['Tweet'] = df['Tweet'].astype(str)\n",
    "df['Retweet'] = df['Tweet'].apply(lambda x:x[:2]=='RT')\n",
    "\n",
    "df['Retweet'].sum()"
   ]
  },
  {
   "cell_type": "code",
   "execution_count": 3,
   "metadata": {
    "collapsed": false
   },
   "outputs": [
    {
     "data": {
      "text/plain": [
       "2365553"
      ]
     },
     "execution_count": 3,
     "metadata": {},
     "output_type": "execute_result"
    }
   ],
   "source": [
    "import numpy as np\n",
    "np.sum(df['Category'])"
   ]
  },
  {
   "cell_type": "code",
   "execution_count": 4,
   "metadata": {
    "collapsed": false
   },
   "outputs": [
    {
     "name": "stdout",
     "output_type": "stream",
     "text": [
      "tweets 8961258\n",
      "Russian 2365553\n"
     ]
    }
   ],
   "source": [
    "\n",
    "print('tweets',df.shape[0])\n",
    "print('Russian',np.sum(df['Category']))"
   ]
  },
  {
   "cell_type": "code",
   "execution_count": 5,
   "metadata": {
    "collapsed": true
   },
   "outputs": [],
   "source": [
    "def preprocess_text(series):\n",
    "     # @somone to @\n",
    "    lst = []\n",
    "    for text in series:\n",
    "         # remove all punctuation except @ and #\n",
    "        text = ' '.join(['@' if '@' in word else word for word in text.split()])\n",
    "        \n",
    "        text = ' '.join(['#' if '#' in word else word for word in text.split()])\n",
    "        text = ''.join([word.lower() for word in text if word not in string.punctuation.replace('@','').replace('#','')])\n",
    "\n",
    "\n",
    "        # the real work, pos tagged only\n",
    "        \n",
    "        tokens = [a[0] if 'IN' in a[1] or 'V' in a[1] or 'DT' in a[1] or 'CC' in a[1] \n",
    "                  or 'MD' in a[1] or 'PDT' in a[1]\n",
    "                  else a[1] for a in nltk.pos_tag(text.split())]\n",
    "\n",
    "        lst.append(' '.join(tokens))\n",
    "    return lst "
   ]
  },
  {
   "cell_type": "code",
   "execution_count": 6,
   "metadata": {
    "collapsed": false
   },
   "outputs": [
    {
     "data": {
      "text/html": [
       "<div>\n",
       "<style scoped>\n",
       "    .dataframe tbody tr th:only-of-type {\n",
       "        vertical-align: middle;\n",
       "    }\n",
       "\n",
       "    .dataframe tbody tr th {\n",
       "        vertical-align: top;\n",
       "    }\n",
       "\n",
       "    .dataframe thead th {\n",
       "        text-align: right;\n",
       "    }\n",
       "</style>\n",
       "<table border=\"1\" class=\"dataframe\">\n",
       "  <thead>\n",
       "    <tr style=\"text-align: right;\">\n",
       "      <th></th>\n",
       "      <th>Tweet</th>\n",
       "      <th>Category</th>\n",
       "      <th>Retweet</th>\n",
       "      <th>Processed</th>\n",
       "    </tr>\n",
       "  </thead>\n",
       "  <tbody>\n",
       "    <tr>\n",
       "      <th>0</th>\n",
       "      <td>i love lebron. http://bit.ly/PdHur</td>\n",
       "      <td>0</td>\n",
       "      <td>False</td>\n",
       "      <td>NN love NN NN</td>\n",
       "    </tr>\n",
       "    <tr>\n",
       "      <th>1</th>\n",
       "      <td>@ludajuice Lebron is a Beast, but I'm still ch...</td>\n",
       "      <td>0</td>\n",
       "      <td>False</td>\n",
       "      <td>JJ NN is a NN but NN RB cheering CD the NN the NN</td>\n",
       "    </tr>\n",
       "    <tr>\n",
       "      <th>2</th>\n",
       "      <td>@wordwhizkid Lebron is a beast... nobody in th...</td>\n",
       "      <td>0</td>\n",
       "      <td>False</td>\n",
       "      <td>JJ NN is a NN NN in the NN comes RB JJ</td>\n",
       "    </tr>\n",
       "    <tr>\n",
       "      <th>3</th>\n",
       "      <td>Bill Simmons in conversation with Malcolm Glad...</td>\n",
       "      <td>0</td>\n",
       "      <td>False</td>\n",
       "      <td>NN NNS in NN with NN NN NN</td>\n",
       "    </tr>\n",
       "    <tr>\n",
       "      <th>4</th>\n",
       "      <td>playing with Java and the Twitter API</td>\n",
       "      <td>0</td>\n",
       "      <td>False</td>\n",
       "      <td>playing with NN and the NN NN</td>\n",
       "    </tr>\n",
       "  </tbody>\n",
       "</table>\n",
       "</div>"
      ],
      "text/plain": [
       "                                               Tweet  Category  Retweet  \\\n",
       "0                 i love lebron. http://bit.ly/PdHur         0    False   \n",
       "1  @ludajuice Lebron is a Beast, but I'm still ch...         0    False   \n",
       "2  @wordwhizkid Lebron is a beast... nobody in th...         0    False   \n",
       "3  Bill Simmons in conversation with Malcolm Glad...         0    False   \n",
       "4              playing with Java and the Twitter API         0    False   \n",
       "\n",
       "                                           Processed  \n",
       "0                                      NN love NN NN  \n",
       "1  JJ NN is a NN but NN RB cheering CD the NN the NN  \n",
       "2             JJ NN is a NN NN in the NN comes RB JJ  \n",
       "3                         NN NNS in NN with NN NN NN  \n",
       "4                      playing with NN and the NN NN  "
      ]
     },
     "execution_count": 6,
     "metadata": {},
     "output_type": "execute_result"
    }
   ],
   "source": [
    "# test it...\n",
    "test = df.head().copy()\n",
    "test['Processed'] = preprocess_text(test['Tweet'])\n",
    "test.head()"
   ]
  },
  {
   "cell_type": "code",
   "execution_count": 7,
   "metadata": {
    "collapsed": false
   },
   "outputs": [
    {
     "name": "stdout",
     "output_type": "stream",
     "text": [
      "It took 9619.119096755981 s to process/pos-tag the tweets.\n"
     ]
    },
    {
     "data": {
      "text/html": [
       "<div>\n",
       "<style scoped>\n",
       "    .dataframe tbody tr th:only-of-type {\n",
       "        vertical-align: middle;\n",
       "    }\n",
       "\n",
       "    .dataframe tbody tr th {\n",
       "        vertical-align: top;\n",
       "    }\n",
       "\n",
       "    .dataframe thead th {\n",
       "        text-align: right;\n",
       "    }\n",
       "</style>\n",
       "<table border=\"1\" class=\"dataframe\">\n",
       "  <thead>\n",
       "    <tr style=\"text-align: right;\">\n",
       "      <th></th>\n",
       "      <th>Tweet</th>\n",
       "      <th>Category</th>\n",
       "      <th>Retweet</th>\n",
       "      <th>Processed</th>\n",
       "    </tr>\n",
       "  </thead>\n",
       "  <tbody>\n",
       "    <tr>\n",
       "      <th>0</th>\n",
       "      <td>i love lebron. http://bit.ly/PdHur</td>\n",
       "      <td>0</td>\n",
       "      <td>False</td>\n",
       "      <td>NN love NN NN</td>\n",
       "    </tr>\n",
       "    <tr>\n",
       "      <th>1</th>\n",
       "      <td>@ludajuice Lebron is a Beast, but I'm still ch...</td>\n",
       "      <td>0</td>\n",
       "      <td>False</td>\n",
       "      <td>JJ NN is a NN but NN RB cheering CD the NN the NN</td>\n",
       "    </tr>\n",
       "    <tr>\n",
       "      <th>2</th>\n",
       "      <td>@wordwhizkid Lebron is a beast... nobody in th...</td>\n",
       "      <td>0</td>\n",
       "      <td>False</td>\n",
       "      <td>JJ NN is a NN NN in the NN comes RB JJ</td>\n",
       "    </tr>\n",
       "    <tr>\n",
       "      <th>3</th>\n",
       "      <td>Bill Simmons in conversation with Malcolm Glad...</td>\n",
       "      <td>0</td>\n",
       "      <td>False</td>\n",
       "      <td>NN NNS in NN with NN NN NN</td>\n",
       "    </tr>\n",
       "    <tr>\n",
       "      <th>4</th>\n",
       "      <td>playing with Java and the Twitter API</td>\n",
       "      <td>0</td>\n",
       "      <td>False</td>\n",
       "      <td>playing with NN and the NN NN</td>\n",
       "    </tr>\n",
       "  </tbody>\n",
       "</table>\n",
       "</div>"
      ],
      "text/plain": [
       "                                               Tweet  Category  Retweet  \\\n",
       "0                 i love lebron. http://bit.ly/PdHur         0    False   \n",
       "1  @ludajuice Lebron is a Beast, but I'm still ch...         0    False   \n",
       "2  @wordwhizkid Lebron is a beast... nobody in th...         0    False   \n",
       "3  Bill Simmons in conversation with Malcolm Glad...         0    False   \n",
       "4              playing with Java and the Twitter API         0    False   \n",
       "\n",
       "                                           Processed  \n",
       "0                                      NN love NN NN  \n",
       "1  JJ NN is a NN but NN RB cheering CD the NN the NN  \n",
       "2             JJ NN is a NN NN in the NN comes RB JJ  \n",
       "3                         NN NNS in NN with NN NN NN  \n",
       "4                      playing with NN and the NN NN  "
      ]
     },
     "execution_count": 7,
     "metadata": {},
     "output_type": "execute_result"
    }
   ],
   "source": [
    "import pickle\n",
    "start = time.time()\n",
    "df['Processed'] = preprocess_text(df['Tweet'])\n",
    "end = time.time()\n",
    "print('It took {} s to process/pos-tag the tweets.'.format(end-start))\n",
    "pickle.dump( df, open( \"files/df.pickle\", \"wb\" ) )\n",
    "df.head()"
   ]
  }
 ],
 "metadata": {
  "anaconda-cloud": {},
  "kernelspec": {
   "display_name": "Python [default]",
   "language": "python",
   "name": "python3"
  },
  "language_info": {
   "codemirror_mode": {
    "name": "ipython",
    "version": 3
   },
   "file_extension": ".py",
   "mimetype": "text/x-python",
   "name": "python",
   "nbconvert_exporter": "python",
   "pygments_lexer": "ipython3",
   "version": "3.5.2"
  }
 },
 "nbformat": 4,
 "nbformat_minor": 2
}
