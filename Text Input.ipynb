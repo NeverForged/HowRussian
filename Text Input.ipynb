{
 "cells": [
  {
   "cell_type": "code",
   "execution_count": 1,
   "metadata": {},
   "outputs": [],
   "source": [
    "import pandas as pd\n",
    "import string\n",
    "import re\n",
    "import nltk\n",
    "import pickle\n",
    "from sklearn.tree import plot_tree\n",
    "import matplotlib.pyplot as plt\n",
    "\n",
    "\n",
    "def clean_text(text):\n",
    "    stopword = nltk.corpus.stopwords.words('english')\n",
    "    ps = nltk.PorterStemmer()\n",
    "    # @somone to @\n",
    "    text = ' '.join(['@' if '@' in a else a for a in text.split(' ')])\n",
    "    # text = ' '.join(['#' if '#' in a else a for a in text.split(' ')])\n",
    "    # remove all punctuation except @ and #\n",
    "    text = ''.join([word.lower() for word in text if word not in string.punctuation.replace('@','').replace('#','')])\n",
    "    # remove numbers\n",
    "    text = re.sub('[0-9]+', 'number', text)\n",
    "    tokens = nltk.word_tokenize(text)\n",
    "    tokens2 = [a[0] if '@' in a[0] or '#' in a[0] else a[1] for a in nltk.pos_tag(text.split())]\n",
    "    # hastags only for grammer-check, none in words\n",
    "    tokens = [a.replace('#','') for a in tokens]\n",
    "    tokens2 = ['#' if '#' in a else a for a in tokens2]\n",
    "    lst = []\n",
    "    lst = [ps.stem(word) for word in tokens]\n",
    "    for i in range(4):\n",
    "        for a in nltk.ngrams([ps.stem(word) for word in tokens2],i+3):\n",
    "            lst.append(' '.join(a))\n",
    "    \n",
    "    return lst\n",
    "\n",
    "\n",
    "# countVector = pickle.load( open( \"files/countVector.pickle\", \"rb\" ) )\n",
    "countVectorizer = pickle.load( open( \"files/countVectorizer.pickle\", \"rb\" ) )\n",
    "DecisionTree = pickle.load( open( \"files/DecisionTree.pickle\", \"rb\" ) )\n",
    "\n",
    "def HowRussian(text=''\n",
    "               ,  countVectorizer=countVectorizer\n",
    "               , DecisionTree=DecisionTree):\n",
    "    '''\n",
    "    This runs the models and spits out details on the entered text.\n",
    "    '''\n",
    "    dct = {}\n",
    "    dct['Tweet'] = text\n",
    "    df = pd.DataFrame(dct, index=[0])\n",
    "    \n",
    "    countVector = countVectorizer.transform(df['Tweet'])\n",
    "    return (DecisionTree.predict(countVector), DecisionTree.predict_proba(countVector)), DecisionTree.decision_path(countVector)"
   ]
  },
  {
   "cell_type": "code",
   "execution_count": 35,
   "metadata": {},
   "outputs": [],
   "source": [
    "a, b = HowRussian('All X are Y #Hi')"
   ]
  },
  {
   "cell_type": "code",
   "execution_count": 25,
   "metadata": {},
   "outputs": [
    {
     "data": {
      "text/plain": [
       "<1x1913 sparse matrix of type '<class 'numpy.int64'>'\n",
       "\twith 13 stored elements in Compressed Sparse Row format>"
      ]
     },
     "execution_count": 25,
     "metadata": {},
     "output_type": "execute_result"
    }
   ],
   "source": [
    "b"
   ]
  },
  {
   "cell_type": "code",
   "execution_count": null,
   "metadata": {},
   "outputs": [],
   "source": []
  }
 ],
 "metadata": {
  "kernelspec": {
   "display_name": "Python 3",
   "language": "python",
   "name": "python3"
  },
  "language_info": {
   "codemirror_mode": {
    "name": "ipython",
    "version": 3
   },
   "file_extension": ".py",
   "mimetype": "text/x-python",
   "name": "python",
   "nbconvert_exporter": "python",
   "pygments_lexer": "ipython3",
   "version": "3.7.3"
  }
 },
 "nbformat": 4,
 "nbformat_minor": 2
}
