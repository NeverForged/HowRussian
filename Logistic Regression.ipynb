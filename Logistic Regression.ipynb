{
 "cells": [
  {
   "cell_type": "code",
   "execution_count": 1,
   "metadata": {},
   "outputs": [
    {
     "name": "stdout",
     "output_type": "stream",
     "text": [
      "tweets 8430264\n",
      "Russian 2283309\n"
     ]
    }
   ],
   "source": [
    "import pickle\n",
    "import pandas as pd\n",
    "import numpy as np\n",
    "\n",
    "countVector = pickle.load( open( \"files/countVector.pickle\", \"rb\" ) )\n",
    "\n",
    "\n",
    "df = pickle.load( open( \"files/df.pickle\", \"rb\" ) )\n",
    "df['Tweet'] = df['Tweet'].astype(str)\n",
    "df['Len'] = df['Tweet'].str.split().apply(len)\n",
    "df = df[df['Len']>=4]\n",
    "print('tweets',df.shape[0])\n",
    "print('Russian',np.sum(df['Category']))"
   ]
  },
  {
   "cell_type": "code",
   "execution_count": 2,
   "metadata": {},
   "outputs": [],
   "source": [
    "from sklearn.model_selection import train_test_split\n",
    "\n",
    "X_train, X_test, y_train, y_test = train_test_split(countVector, df['Category'])"
   ]
  },
  {
   "cell_type": "code",
   "execution_count": 8,
   "metadata": {},
   "outputs": [
    {
     "name": "stdout",
     "output_type": "stream",
     "text": [
      "0.9000434624585897 0.9001990922229719\n"
     ]
    }
   ],
   "source": [
    "from sklearn.linear_model import LogisticRegression\n",
    "model = LogisticRegression(max_iter=1000)\n",
    "model.fit(X_train, y_train)\n",
    "print(model.score(X_train, y_train), model.score(X_test, y_test))"
   ]
  },
  {
   "cell_type": "code",
   "execution_count": 9,
   "metadata": {},
   "outputs": [],
   "source": [
    "pickle.dump( model, open( \"files/model.pickle\", \"wb\" ) )"
   ]
  },
  {
   "cell_type": "code",
   "execution_count": 4,
   "metadata": {},
   "outputs": [
    {
     "data": {
      "text/plain": [
       "(1, 430)"
      ]
     },
     "execution_count": 4,
     "metadata": {},
     "output_type": "execute_result"
    }
   ],
   "source": [
    "model.coef_.shape"
   ]
  },
  {
   "cell_type": "code",
   "execution_count": 5,
   "metadata": {},
   "outputs": [],
   "source": [
    "def clean_text(text):\n",
    "    # @somone to @\n",
    "    text = ' '.join(['@' if '@' in a else a for a in text.split(' ')])\n",
    "    # text = ' '.join(['#' if '#' in a else a for a in text.split(' ')])\n",
    "    # remove all punctuation except @ and #\n",
    "    text = ''.join([word.lower() for word in text if word not in string.punctuation.replace('@','').replace('#','')])\n",
    "    # remove numbers\n",
    "    text = re.sub('[0-9]+', 'number', text)\n",
    "    tokens = nltk.word_tokenize(text)\n",
    "    tokens2 = [a[0] if '@' in a[0] or '#' in a[0] else a[1] for a in nltk.pos_tag(text.split())]\n",
    "    # hastags only for grammer-check, none in words\n",
    "    tokens = [a.replace('#','') for a in tokens]\n",
    "    tokens2 = ['#' if '#' in a else a for a in tokens2]\n",
    "    lst = []\n",
    "    lst = [ps.stem(word) for word in tokens]\n",
    "    for i in range(4):\n",
    "        for a in nltk.ngrams([ps.stem(word) for word in tokens2],i+3):\n",
    "            lst.append(' '.join(a))\n",
    "    \n",
    "    return lst"
   ]
  },
  {
   "cell_type": "code",
   "execution_count": null,
   "metadata": {},
   "outputs": [],
   "source": []
  }
 ],
 "metadata": {
  "kernelspec": {
   "display_name": "Python 3",
   "language": "python",
   "name": "python3"
  },
  "language_info": {
   "codemirror_mode": {
    "name": "ipython",
    "version": 3
   },
   "file_extension": ".py",
   "mimetype": "text/x-python",
   "name": "python",
   "nbconvert_exporter": "python",
   "pygments_lexer": "ipython3",
   "version": "3.7.3"
  }
 },
 "nbformat": 4,
 "nbformat_minor": 2
}
