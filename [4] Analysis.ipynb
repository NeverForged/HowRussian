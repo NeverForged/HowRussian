{
 "cells": [
  {
   "cell_type": "code",
   "execution_count": 1,
   "metadata": {},
   "outputs": [
    {
     "name": "stdout",
     "output_type": "stream",
     "text": [
      "tweets 8488073\n",
      "Russian 2285628\n"
     ]
    }
   ],
   "source": [
    "import pickle\n",
    "import pandas as pd\n",
    "import numpy as np\n",
    "import time\n",
    "\n",
    "\n",
    "df = pickle.load( open( \"files/df.pickle\", \"rb\" ) )\n",
    "df['Tweet'] = df['Tweet'].astype(str)\n",
    "df['Words'] = df['Tweet'].str.count(' ') + 1\n",
    "df = df[df['Words']>=4]\n",
    "\n",
    "print('tweets',df.shape[0])\n",
    "print('Russian',np.sum(df['Category']))"
   ]
  },
  {
   "cell_type": "code",
   "execution_count": 2,
   "metadata": {},
   "outputs": [],
   "source": [
    "cv = pickle.load(open('models/countVectorizer.pickle', 'rb'))\n",
    "sc = pickle.load(open('models/scaler.pickle', 'rb'))\n",
    "lr = pickle.load(open('models/regression.pickle', 'rb'))"
   ]
  },
  {
   "cell_type": "code",
   "execution_count": 3,
   "metadata": {},
   "outputs": [],
   "source": [
    "df = df[df['Category']==1].copy()"
   ]
  },
  {
   "cell_type": "code",
   "execution_count": 4,
   "metadata": {},
   "outputs": [
    {
     "name": "stdout",
     "output_type": "stream",
     "text": [
      "9811 18272\n"
     ]
    }
   ],
   "source": [
    "lst = []\n",
    "for i, key in enumerate(cv.vocabulary_):\n",
    "    lst.append((key,lr.coef_[0][cv.vocabulary_[key]]))\n",
    "    \n",
    "lst.sort(key = lambda x: x[1], reverse=True)\n",
    "top = []\n",
    "for a in lst:\n",
    "    if a[1] > 0:\n",
    "        top.append(a)\n",
    "        \n",
    "print(len(top),len(cv.vocabulary_))"
   ]
  },
  {
   "cell_type": "code",
   "execution_count": 5,
   "metadata": {},
   "outputs": [
    {
     "data": {
      "text/html": [
       "<div>\n",
       "<style scoped>\n",
       "    .dataframe tbody tr th:only-of-type {\n",
       "        vertical-align: middle;\n",
       "    }\n",
       "\n",
       "    .dataframe tbody tr th {\n",
       "        vertical-align: top;\n",
       "    }\n",
       "\n",
       "    .dataframe thead th {\n",
       "        text-align: right;\n",
       "    }\n",
       "</style>\n",
       "<table border=\"1\" class=\"dataframe\">\n",
       "  <thead>\n",
       "    <tr style=\"text-align: right;\">\n",
       "      <th></th>\n",
       "      <th>Tweet</th>\n",
       "      <th>Category</th>\n",
       "      <th>Retweet</th>\n",
       "      <th>Processed</th>\n",
       "      <th>Words</th>\n",
       "      <th>HowRussian</th>\n",
       "    </tr>\n",
       "  </thead>\n",
       "  <tbody>\n",
       "    <tr>\n",
       "      <th>897490</th>\n",
       "      <td>Сегодня проголосовали на УИК 738 160 из 446 из...</td>\n",
       "      <td>1</td>\n",
       "      <td>False</td>\n",
       "      <td>JJ NNP NNP VBD CD CD JJ CD JJ NNP NNP CD NNP NN</td>\n",
       "      <td>16</td>\n",
       "      <td>1.000000</td>\n",
       "    </tr>\n",
       "    <tr>\n",
       "      <th>787859</th>\n",
       "      <td>Укропы Саханку молотят из 120 и 122-мм. Уже в ...</td>\n",
       "      <td>1</td>\n",
       "      <td>False</td>\n",
       "      <td>JJ NNP NNP VBD CD JJ CD JJ NNP NNP NNP NNP NNP...</td>\n",
       "      <td>24</td>\n",
       "      <td>0.999999</td>\n",
       "    </tr>\n",
       "    <tr>\n",
       "      <th>734875</th>\n",
       "      <td>28 июля 988 г -государственная памятная дата Р...</td>\n",
       "      <td>1</td>\n",
       "      <td>False</td>\n",
       "      <td>CD JJ CD JJ NNP NNP NNP NNP NNP VBD CD NN CD N...</td>\n",
       "      <td>19</td>\n",
       "      <td>0.999999</td>\n",
       "    </tr>\n",
       "    <tr>\n",
       "      <th>734873</th>\n",
       "      <td>28 июля 988 г -государственная памятная дата Р...</td>\n",
       "      <td>1</td>\n",
       "      <td>False</td>\n",
       "      <td>CD JJ CD JJ NNP NNP NNP NNP NNP VBD CD NN CD N...</td>\n",
       "      <td>19</td>\n",
       "      <td>0.999999</td>\n",
       "    </tr>\n",
       "    <tr>\n",
       "      <th>873103</th>\n",
       "      <td>8 декабря 1991 года, вопреки воле народа, выра...</td>\n",
       "      <td>1</td>\n",
       "      <td>False</td>\n",
       "      <td>CD JJ CD NNP NNP NNP NNP VBD CD NN CD NNP NNP ...</td>\n",
       "      <td>17</td>\n",
       "      <td>0.999999</td>\n",
       "    </tr>\n",
       "  </tbody>\n",
       "</table>\n",
       "</div>"
      ],
      "text/plain": [
       "                                                    Tweet  Category  Retweet  \\\n",
       "897490  Сегодня проголосовали на УИК 738 160 из 446 из...         1    False   \n",
       "787859  Укропы Саханку молотят из 120 и 122-мм. Уже в ...         1    False   \n",
       "734875  28 июля 988 г -государственная памятная дата Р...         1    False   \n",
       "734873  28 июля 988 г -государственная памятная дата Р...         1    False   \n",
       "873103  8 декабря 1991 года, вопреки воле народа, выра...         1    False   \n",
       "\n",
       "                                                Processed  Words  HowRussian  \n",
       "897490    JJ NNP NNP VBD CD CD JJ CD JJ NNP NNP CD NNP NN     16    1.000000  \n",
       "787859  JJ NNP NNP VBD CD JJ CD JJ NNP NNP NNP NNP NNP...     24    0.999999  \n",
       "734875  CD JJ CD JJ NNP NNP NNP NNP NNP VBD CD NN CD N...     19    0.999999  \n",
       "734873  CD JJ CD JJ NNP NNP NNP NNP NNP VBD CD NN CD N...     19    0.999999  \n",
       "873103  CD JJ CD NNP NNP NNP NNP VBD CD NN CD NNP NNP ...     17    0.999999  "
      ]
     },
     "execution_count": 5,
     "metadata": {},
     "output_type": "execute_result"
    }
   ],
   "source": [
    "df['HowRussian'] = lr.predict_proba(sc.transform(cv.transform(df['Processed'])))[:,1]\n",
    "df = df[df['HowRussian']>=0.9].copy()\n",
    "df = df.sort_values('HowRussian', ascending=False)\n",
    "df.head()"
   ]
  },
  {
   "cell_type": "code",
   "execution_count": 6,
   "metadata": {},
   "outputs": [],
   "source": [
    "import string\n",
    "import re\n",
    "import nltk\n",
    "\n",
    "def preprocess_text(series):\n",
    "     # @somone to @\n",
    "    lst = []\n",
    "    for text in series:\n",
    "         # mark @, # and links\n",
    "        text = ' '.join(['_at_someone_' if '@' in word else word for word in text.split()])\n",
    "        text = ' '.join(['_link_' if 'http' in word or 'www.' in word else word for word in text.split()])\n",
    "        text = ' '.join(['_hashtag_' if '#' in word else word for word in text.split()])\n",
    "        # remove all other punctuation\n",
    "        text = ''.join([word.lower() for word in text if word not in string.punctuation.replace('@','').replace('#','').replace('_','')])\n",
    "\n",
    "        # the real work, pos tagging to reduce Nouns and other things that don't matter\n",
    "        tokens = []\n",
    "        for a in nltk.pos_tag(text.split()):\n",
    "            # keep these as-is for reasons\n",
    "            if '_link_' in a[0] or '_at_someone_' in a[0] or '_hashtag_' in a[0]:\n",
    "                tokens.append(a[0])\n",
    "#             # lemmatize these to reduce parts of speach issues\n",
    "#             elif 'IN' in a[1] or 'V' in a[1] or 'DT' in a[1] or 'CC' in a[1] or 'MD' in a[1] or 'PDT' in a[1]:\n",
    "#                 tokens.append(nltk.PorterStemmer().stem(a[0]))\n",
    "            else:\n",
    "                tokens.append(a[1])\n",
    "       \n",
    "        lst.append(' '.join(tokens))\n",
    "    return lst "
   ]
  },
  {
   "cell_type": "code",
   "execution_count": 7,
   "metadata": {},
   "outputs": [
    {
     "data": {
      "text/plain": [
       "array([[0.30133747, 0.69866253],\n",
       "       [0.19189906, 0.80810094]])"
      ]
     },
     "execution_count": 7,
     "metadata": {},
     "output_type": "execute_result"
    }
   ],
   "source": [
    "tweets = ['All men are rapists', 'Both parties are the same.']\n",
    "lr.predict_proba(sc.transform(cv.transform(preprocess_text(tweets))))"
   ]
  },
  {
   "cell_type": "code",
   "execution_count": null,
   "metadata": {},
   "outputs": [],
   "source": []
  }
 ],
 "metadata": {
  "kernelspec": {
   "display_name": "Python 3",
   "language": "python",
   "name": "python3"
  },
  "language_info": {
   "codemirror_mode": {
    "name": "ipython",
    "version": 3
   },
   "file_extension": ".py",
   "mimetype": "text/x-python",
   "name": "python",
   "nbconvert_exporter": "python",
   "pygments_lexer": "ipython3",
   "version": "3.7.3"
  }
 },
 "nbformat": 4,
 "nbformat_minor": 2
}
