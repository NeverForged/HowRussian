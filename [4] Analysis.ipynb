{
 "cells": [
  {
   "cell_type": "code",
   "execution_count": 1,
   "metadata": {},
   "outputs": [
    {
     "name": "stdout",
     "output_type": "stream",
     "text": [
      "tweets 8488073\n",
      "Russian 2285628\n"
     ]
    }
   ],
   "source": [
    "import pickle\n",
    "import pandas as pd\n",
    "import numpy as np\n",
    "import time\n",
    "\n",
    "\n",
    "df = pickle.load( open( \"files/df.pickle\", \"rb\" ) )\n",
    "df['Tweet'] = df['Tweet'].astype(str)\n",
    "df['Words'] = df['Tweet'].str.count(' ') + 1\n",
    "df = df[df['Words']>=4]\n",
    "\n",
    "print('tweets',df.shape[0])\n",
    "print('Russian',np.sum(df['Category']))"
   ]
  },
  {
   "cell_type": "code",
   "execution_count": 8,
   "metadata": {},
   "outputs": [],
   "source": [
    "cv = pickle.load(open('models/countVectorizer.pickle', 'rb'))\n",
    "sc = pickle.load(open('models/scaler.pickle', 'rb'))\n",
    "lr = pickle.load(open('models/regression.pickle', 'rb'))"
   ]
  },
  {
   "cell_type": "code",
   "execution_count": 17,
   "metadata": {},
   "outputs": [
    {
     "data": {
      "text/plain": [
       "[('_link_ _link_', 1.1067303697771196),\n",
       " ('nnp _link_', 0.4094573808394967),\n",
       " ('nn _link_ _link_', 0.37345176737334457),\n",
       " ('_hashtag_ _link_', 0.343838511624884),\n",
       " ('nnp nnp nnp nnp nnp', 0.2902777339215576),\n",
       " ('nnp nnp nnp nnp', 0.28284510848885497),\n",
       " ('nnp nnp nnp', 0.2735495663366981),\n",
       " ('nnp nnp', 0.27295003679369007),\n",
       " ('_at_someone_ _at_someone_ _at_someone_', 0.2571375565094522),\n",
       " ('_hashtag_ _hashtag_', 0.2565618055626133),\n",
       " ('jj _link_ _link_', 0.2538135725087318),\n",
       " ('_link_ _hashtag_', 0.24629023775442757),\n",
       " ('jj nnp', 0.24579868668152416),\n",
       " ('_at_someone_ nn _at_someone_ nn _at_someone_', 0.2327489878650521),\n",
       " ('nn _hashtag_', 0.23033179824591357),\n",
       " ('nns _hashtag_', 0.20963339287085775),\n",
       " ('_at_someone_ _at_someone_', 0.2045053060001705),\n",
       " ('jj nnp nnp nnp nnp', 0.1983518812504689),\n",
       " ('_at_someone_ nn _at_someone_', 0.19768995956642632),\n",
       " ('jj nnp nnp', 0.19599789564413184),\n",
       " ('nnp nnp _link_', 0.1919034923225337),\n",
       " ('nnp nnp nnp nnp _link_', 0.19160408280311242),\n",
       " ('_hashtag_ _hashtag_ _link_', 0.18741484653542045),\n",
       " ('jj nnp nnp nnp', 0.18549754631172116),\n",
       " ('nns _link_ _link_', 0.1852391055021848),\n",
       " ('nnp nnp nnp _link_', 0.18426471253959917),\n",
       " ('nn nn _link_ _link_', 0.18337767802620278),\n",
       " ('nns _link_', 0.16297716239630497),\n",
       " ('_link_ _hashtag_ _link_', 0.15867235766353285),\n",
       " ('jj _link_', 0.15402017687825587),\n",
       " ('nnp _hashtag_', 0.15321280488685401),\n",
       " ('nns trump', 0.15034040093692322),\n",
       " ('_hashtag_ nn', 0.1403467154778883),\n",
       " ('jj nn _link_ _link_', 0.13457846101315205),\n",
       " ('nn _link_', 0.13103956343235962),\n",
       " ('_hashtag_ _hashtag_ _hashtag_ _hashtag_ _link_', 0.12573104565972015),\n",
       " ('jj _hashtag_', 0.1224860741768395),\n",
       " ('jj nn _link_', 0.12179469365774848),\n",
       " ('to trump', 0.12118224150933687),\n",
       " ('nn nnp', 0.12088936302190992),\n",
       " ('_link_ _at_someone_ _link_', 0.11618476642747341),\n",
       " ('nn _at_someone_ _at_someone_ _at_someone_ _at_someone_',\n",
       "  0.11588223222342914),\n",
       " ('in nn _link_', 0.11462790108632286),\n",
       " ('_hashtag_ _hashtag_ _hashtag_ _link_', 0.1134124021511405),\n",
       " ('nnp _link_ _link_', 0.11000209770396142),\n",
       " ('jj nnp _link_', 0.10947081362760146),\n",
       " ('_link_ via _at_someone_', 0.10900127085380035),\n",
       " ('nn nn nn _link_ _link_', 0.10690262721082269),\n",
       " ('_at_someone_ nn _at_someone_ nn _link_', 0.10504396729095687),\n",
       " ('cd _link_', 0.10402530562550832),\n",
       " ('prp _link_', 0.10358616351867782),\n",
       " ('_hashtag_ nnp _link_', 0.10323799377804971),\n",
       " ('the nn _link_', 0.101490799135539),\n",
       " ('_hashtag_ nnp', 0.09958033482214947),\n",
       " ('cd _hashtag_', 0.09873140004351905),\n",
       " ('nnp _at_someone_', 0.09854326907696474),\n",
       " ('rb _link_', 0.0959657299183156),\n",
       " ('rb _link_ _link_', 0.09425601894230719),\n",
       " ('in nn _hashtag_', 0.09407208637120722),\n",
       " ('jj nn _hashtag_', 0.09362035586389451),\n",
       " ('trump nn', 0.09184463513427858),\n",
       " ('_at_someone_ _at_someone_ _at_someone_ _at_someone_', 0.08989060982720586),\n",
       " ('prp nn _link_', 0.08773355296287971),\n",
       " ('_at_someone_ jj _at_someone_ nn _at_someone_', 0.08752904164657851),\n",
       " ('nn say', 0.0874324953613436),\n",
       " ('nnp nn', 0.08571131318209584),\n",
       " ('nnp nnp _link_ _link_', 0.08248345783625007),\n",
       " ('_hashtag_ nns', 0.08054533043691106),\n",
       " ('nn nn _hashtag_', 0.08042370600906334),\n",
       " ('nnp nnp nnp _link_ _link_', 0.0799075568213899),\n",
       " ('accus of', 0.07990325451175025),\n",
       " ('nns comey', 0.07969173409603005),\n",
       " ('_at_someone_ _at_someone_ _link_', 0.07961400962468564),\n",
       " ('trump jj', 0.07893980707652053),\n",
       " ('nn investig', 0.07847493776191825),\n",
       " ('via _at_someone_ _link_', 0.07760019989289177),\n",
       " ('backfir _link_', 0.07691201580113882),\n",
       " ('cd nn _link_', 0.07657979445697383),\n",
       " ('nn trump', 0.07629713905009419),\n",
       " ('trump nns', 0.07606192257379142),\n",
       " ('jj nn nn _link_', 0.07551057559627054),\n",
       " ('nn _at_someone_ nn _at_someone_', 0.07447729314461148),\n",
       " ('nns investig', 0.074162688721357),\n",
       " ('trump rb', 0.07397201317118104),\n",
       " ('nn nn nn nn _link_', 0.0737091436328546),\n",
       " ('shoot _link_', 0.07361819100801352),\n",
       " ('_hashtag_ _link_ _link_', 0.07355265244931207),\n",
       " ('nn arrest', 0.07286974390771633),\n",
       " ('nnp _hashtag_ _link_', 0.07267569526019696),\n",
       " ('charg with', 0.07264302841437086),\n",
       " ('donald nn', 0.07247430770896961),\n",
       " ('prp _link_ _link_', 0.07236014245019254),\n",
       " ('_hashtag_ prp', 0.07231552397168593),\n",
       " ('break nn', 0.07037702130062973),\n",
       " ('jj nns _link_ _link_', 0.06919240080624915),\n",
       " ('jj nn nn _link_ _link_', 0.06913180300091835),\n",
       " ('_link_ _hashtag_ _hashtag_ _link_', 0.06886695991306849),\n",
       " ('on nn _link_', 0.06853094939853832),\n",
       " ('cd _link_ _link_', 0.06812206364113979),\n",
       " ('nns polic', 0.06806618988417076)]"
      ]
     },
     "execution_count": 17,
     "metadata": {},
     "output_type": "execute_result"
    }
   ],
   "source": [
    "lst = []\n",
    "for i, key in enumerate(cv.vocabulary_):\n",
    "    lst.append((key,lr.coef_[0][cv.vocabulary_[key]]))\n",
    "    \n",
    "lst.sort(key = lambda x: x[1], reverse=True) \n",
    "lst[:100]"
   ]
  },
  {
   "cell_type": "code",
   "execution_count": null,
   "metadata": {},
   "outputs": [],
   "source": []
  }
 ],
 "metadata": {
  "kernelspec": {
   "display_name": "Python 3",
   "language": "python",
   "name": "python3"
  },
  "language_info": {
   "codemirror_mode": {
    "name": "ipython",
    "version": 3
   },
   "file_extension": ".py",
   "mimetype": "text/x-python",
   "name": "python",
   "nbconvert_exporter": "python",
   "pygments_lexer": "ipython3",
   "version": "3.7.3"
  }
 },
 "nbformat": 4,
 "nbformat_minor": 2
}
