{
 "cells": [
  {
   "cell_type": "code",
   "execution_count": 1,
   "metadata": {},
   "outputs": [],
   "source": [
    "import pandas as pd\n",
    "\n"
   ]
  },
  {
   "cell_type": "code",
   "execution_count": 2,
   "metadata": {},
   "outputs": [
    {
     "data": {
      "text/html": [
       "<div>\n",
       "<style scoped>\n",
       "    .dataframe tbody tr th:only-of-type {\n",
       "        vertical-align: middle;\n",
       "    }\n",
       "\n",
       "    .dataframe tbody tr th {\n",
       "        vertical-align: top;\n",
       "    }\n",
       "\n",
       "    .dataframe thead th {\n",
       "        text-align: right;\n",
       "    }\n",
       "</style>\n",
       "<table border=\"1\" class=\"dataframe\">\n",
       "  <thead>\n",
       "    <tr style=\"text-align: right;\">\n",
       "      <th></th>\n",
       "      <th>Tweet</th>\n",
       "      <th>Category</th>\n",
       "    </tr>\n",
       "  </thead>\n",
       "  <tbody>\n",
       "    <tr>\n",
       "      <th>0</th>\n",
       "      <td>@stellargirl I loooooooovvvvvveee my Kindle2. ...</td>\n",
       "      <td>0</td>\n",
       "    </tr>\n",
       "    <tr>\n",
       "      <th>1</th>\n",
       "      <td>Reading my kindle2...  Love it... Lee childs i...</td>\n",
       "      <td>0</td>\n",
       "    </tr>\n",
       "    <tr>\n",
       "      <th>2</th>\n",
       "      <td>Ok, first assesment of the #kindle2 ...it fuck...</td>\n",
       "      <td>0</td>\n",
       "    </tr>\n",
       "    <tr>\n",
       "      <th>3</th>\n",
       "      <td>@kenburbary You'll love your Kindle2. I've had...</td>\n",
       "      <td>0</td>\n",
       "    </tr>\n",
       "    <tr>\n",
       "      <th>4</th>\n",
       "      <td>@mikefish  Fair enough. But i have the Kindle2...</td>\n",
       "      <td>0</td>\n",
       "    </tr>\n",
       "  </tbody>\n",
       "</table>\n",
       "</div>"
      ],
      "text/plain": [
       "                                               Tweet  Category\n",
       "0  @stellargirl I loooooooovvvvvveee my Kindle2. ...         0\n",
       "1  Reading my kindle2...  Love it... Lee childs i...         0\n",
       "2  Ok, first assesment of the #kindle2 ...it fuck...         0\n",
       "3  @kenburbary You'll love your Kindle2. I've had...         0\n",
       "4  @mikefish  Fair enough. But i have the Kindle2...         0"
      ]
     },
     "execution_count": 2,
     "metadata": {},
     "output_type": "execute_result"
    }
   ],
   "source": [
    "df1 = pd.read_csv('rawdata/testdata.manual.2009.06.14.csv', header=None)\n",
    "df1.head()\n",
    "df1['Tweet'] = df1[5]\n",
    "df1['Category'] = 0\n",
    "df1 = df1[['Tweet', 'Category']]\n",
    "df1.head()"
   ]
  },
  {
   "cell_type": "code",
   "execution_count": 3,
   "metadata": {},
   "outputs": [
    {
     "data": {
      "text/html": [
       "<div>\n",
       "<style scoped>\n",
       "    .dataframe tbody tr th:only-of-type {\n",
       "        vertical-align: middle;\n",
       "    }\n",
       "\n",
       "    .dataframe tbody tr th {\n",
       "        vertical-align: top;\n",
       "    }\n",
       "\n",
       "    .dataframe thead th {\n",
       "        text-align: right;\n",
       "    }\n",
       "</style>\n",
       "<table border=\"1\" class=\"dataframe\">\n",
       "  <thead>\n",
       "    <tr style=\"text-align: right;\">\n",
       "      <th></th>\n",
       "      <th>Tweet</th>\n",
       "      <th>Category</th>\n",
       "    </tr>\n",
       "  </thead>\n",
       "  <tbody>\n",
       "    <tr>\n",
       "      <th>0</th>\n",
       "      <td>@switchfoot http://twitpic.com/2y1zl - Awww, t...</td>\n",
       "      <td>0</td>\n",
       "    </tr>\n",
       "    <tr>\n",
       "      <th>1</th>\n",
       "      <td>is upset that he can't update his Facebook by ...</td>\n",
       "      <td>0</td>\n",
       "    </tr>\n",
       "    <tr>\n",
       "      <th>2</th>\n",
       "      <td>@Kenichan I dived many times for the ball. Man...</td>\n",
       "      <td>0</td>\n",
       "    </tr>\n",
       "    <tr>\n",
       "      <th>3</th>\n",
       "      <td>my whole body feels itchy and like its on fire</td>\n",
       "      <td>0</td>\n",
       "    </tr>\n",
       "    <tr>\n",
       "      <th>4</th>\n",
       "      <td>@nationwideclass no, it's not behaving at all....</td>\n",
       "      <td>0</td>\n",
       "    </tr>\n",
       "  </tbody>\n",
       "</table>\n",
       "</div>"
      ],
      "text/plain": [
       "                                               Tweet  Category\n",
       "0  @switchfoot http://twitpic.com/2y1zl - Awww, t...         0\n",
       "1  is upset that he can't update his Facebook by ...         0\n",
       "2  @Kenichan I dived many times for the ball. Man...         0\n",
       "3    my whole body feels itchy and like its on fire          0\n",
       "4  @nationwideclass no, it's not behaving at all....         0"
      ]
     },
     "execution_count": 3,
     "metadata": {},
     "output_type": "execute_result"
    }
   ],
   "source": [
    "df2 = pd.read_csv('rawdata/training.1600000.processed.noemoticon.csv', header=None, encoding = \"ISO-8859-1\")\n",
    "df2['Tweet'] = df2[5]\n",
    "df2['Category'] = 0\n",
    "df2 = df2[['Tweet', 'Category']]\n",
    "df2.head()"
   ]
  },
  {
   "cell_type": "code",
   "execution_count": 4,
   "metadata": {},
   "outputs": [
    {
     "data": {
      "text/html": [
       "<div>\n",
       "<style scoped>\n",
       "    .dataframe tbody tr th:only-of-type {\n",
       "        vertical-align: middle;\n",
       "    }\n",
       "\n",
       "    .dataframe tbody tr th {\n",
       "        vertical-align: top;\n",
       "    }\n",
       "\n",
       "    .dataframe thead th {\n",
       "        text-align: right;\n",
       "    }\n",
       "</style>\n",
       "<table border=\"1\" class=\"dataframe\">\n",
       "  <thead>\n",
       "    <tr style=\"text-align: right;\">\n",
       "      <th></th>\n",
       "      <th>index</th>\n",
       "      <th>Tweet</th>\n",
       "      <th>Category</th>\n",
       "    </tr>\n",
       "  </thead>\n",
       "  <tbody>\n",
       "    <tr>\n",
       "      <th>0</th>\n",
       "      <td>0</td>\n",
       "      <td>@stellargirl I loooooooovvvvvveee my Kindle2. ...</td>\n",
       "      <td>0</td>\n",
       "    </tr>\n",
       "    <tr>\n",
       "      <th>1</th>\n",
       "      <td>1</td>\n",
       "      <td>Reading my kindle2...  Love it... Lee childs i...</td>\n",
       "      <td>0</td>\n",
       "    </tr>\n",
       "    <tr>\n",
       "      <th>2</th>\n",
       "      <td>2</td>\n",
       "      <td>Ok, first assesment of the #kindle2 ...it fuck...</td>\n",
       "      <td>0</td>\n",
       "    </tr>\n",
       "    <tr>\n",
       "      <th>3</th>\n",
       "      <td>3</td>\n",
       "      <td>@kenburbary You'll love your Kindle2. I've had...</td>\n",
       "      <td>0</td>\n",
       "    </tr>\n",
       "    <tr>\n",
       "      <th>4</th>\n",
       "      <td>4</td>\n",
       "      <td>@mikefish  Fair enough. But i have the Kindle2...</td>\n",
       "      <td>0</td>\n",
       "    </tr>\n",
       "  </tbody>\n",
       "</table>\n",
       "</div>"
      ],
      "text/plain": [
       "   index                                              Tweet  Category\n",
       "0      0  @stellargirl I loooooooovvvvvveee my Kindle2. ...         0\n",
       "1      1  Reading my kindle2...  Love it... Lee childs i...         0\n",
       "2      2  Ok, first assesment of the #kindle2 ...it fuck...         0\n",
       "3      3  @kenburbary You'll love your Kindle2. I've had...         0\n",
       "4      4  @mikefish  Fair enough. But i have the Kindle2...         0"
      ]
     },
     "execution_count": 4,
     "metadata": {},
     "output_type": "execute_result"
    }
   ],
   "source": [
    "df = pd.concat([df1, df2]).reset_index()\n",
    "df.head()"
   ]
  },
  {
   "cell_type": "code",
   "execution_count": 5,
   "metadata": {},
   "outputs": [
    {
     "data": {
      "text/plain": [
       "(1600498, 3)"
      ]
     },
     "execution_count": 5,
     "metadata": {},
     "output_type": "execute_result"
    }
   ],
   "source": [
    "df.shape"
   ]
  },
  {
   "cell_type": "code",
   "execution_count": 6,
   "metadata": {},
   "outputs": [],
   "source": [
    "df.to_csv('data/data.csv')"
   ]
  },
  {
   "cell_type": "code",
   "execution_count": 7,
   "metadata": {},
   "outputs": [
    {
     "name": "stderr",
     "output_type": "stream",
     "text": [
      "b'Skipping line 12902: expected 4 fields, saw 9\\nSkipping line 28178: expected 4 fields, saw 5\\nSkipping line 74404: expected 4 fields, saw 5\\nSkipping line 100235: expected 4 fields, saw 5\\n'\n",
      "b'Skipping line 148456: expected 4 fields, saw 5\\nSkipping line 148457: expected 4 fields, saw 5\\nSkipping line 185077: expected 4 fields, saw 5\\n'\n",
      "b'Skipping line 281200: expected 4 fields, saw 5\\nSkipping line 281753: expected 4 fields, saw 5\\nSkipping line 317924: expected 4 fields, saw 11\\n'\n",
      "b'Skipping line 570286: expected 4 fields, saw 5\\nSkipping line 591315: expected 4 fields, saw 15\\nSkipping line 604088: expected 4 fields, saw 5\\nSkipping line 621624: expected 4 fields, saw 6\\n'\n",
      "b'Skipping line 706468: expected 4 fields, saw 5\\nSkipping line 708067: expected 4 fields, saw 5\\nSkipping line 714749: expected 4 fields, saw 12\\nSkipping line 753943: expected 4 fields, saw 5\\n'\n",
      "b'Skipping line 791454: expected 4 fields, saw 5\\nSkipping line 799015: expected 4 fields, saw 5\\nSkipping line 833925: expected 4 fields, saw 5\\nSkipping line 894874: expected 4 fields, saw 5\\n'\n",
      "b'Skipping line 1066105: expected 4 fields, saw 5\\nSkipping line 1066301: expected 4 fields, saw 5\\nSkipping line 1066321: expected 4 fields, saw 5\\n'\n",
      "b'Skipping line 1249243: expected 4 fields, saw 5\\nSkipping line 1288568: expected 4 fields, saw 5\\nSkipping line 1307086: expected 4 fields, saw 5\\n'\n",
      "b'Skipping line 1317146: expected 4 fields, saw 5\\nSkipping line 1340748: expected 4 fields, saw 5\\nSkipping line 1351364: expected 4 fields, saw 5\\nSkipping line 1398993: expected 4 fields, saw 5\\nSkipping line 1408405: expected 4 fields, saw 5\\nSkipping line 1408639: expected 4 fields, saw 5\\n'\n",
      "b'Skipping line 1455025: expected 4 fields, saw 5\\nSkipping line 1461563: expected 4 fields, saw 5\\nSkipping line 1461680: expected 4 fields, saw 5\\nSkipping line 1493076: expected 4 fields, saw 14\\n'\n",
      "b'Skipping line 1600572: expected 4 fields, saw 5\\nSkipping line 1610691: expected 4 fields, saw 5\\nSkipping line 1649277: expected 4 fields, saw 5\\nSkipping line 1649296: expected 4 fields, saw 5\\nSkipping line 1649304: expected 4 fields, saw 5\\nSkipping line 1649310: expected 4 fields, saw 5\\nSkipping line 1649318: expected 4 fields, saw 5\\nSkipping line 1649321: expected 4 fields, saw 5\\nSkipping line 1649325: expected 4 fields, saw 5\\nSkipping line 1649330: expected 4 fields, saw 5\\nSkipping line 1649338: expected 4 fields, saw 5\\nSkipping line 1649346: expected 4 fields, saw 5\\nSkipping line 1649361: expected 4 fields, saw 5\\nSkipping line 1649366: expected 4 fields, saw 5\\nSkipping line 1649368: expected 4 fields, saw 5\\nSkipping line 1649373: expected 4 fields, saw 5\\nSkipping line 1649383: expected 4 fields, saw 5\\nSkipping line 1649412: expected 4 fields, saw 5\\nSkipping line 1649414: expected 4 fields, saw 5\\nSkipping line 1649421: expected 4 fields, saw 5\\nSkipping line 1649437: expected 4 fields, saw 5\\nSkipping line 1649453: expected 4 fields, saw 5\\nSkipping line 1649456: expected 4 fields, saw 5\\nSkipping line 1649461: expected 4 fields, saw 5\\nSkipping line 1649472: expected 4 fields, saw 5\\nSkipping line 1649479: expected 4 fields, saw 5\\nSkipping line 1649486: expected 4 fields, saw 5\\nSkipping line 1649488: expected 4 fields, saw 5\\nSkipping line 1649512: expected 4 fields, saw 5\\nSkipping line 1649523: expected 4 fields, saw 5\\nSkipping line 1649528: expected 4 fields, saw 5\\nSkipping line 1649535: expected 4 fields, saw 5\\nSkipping line 1649542: expected 4 fields, saw 5\\nSkipping line 1649565: expected 4 fields, saw 5\\nSkipping line 1649567: expected 4 fields, saw 5\\nSkipping line 1649572: expected 4 fields, saw 5\\nSkipping line 1649577: expected 4 fields, saw 5\\nSkipping line 1649584: expected 4 fields, saw 5\\nSkipping line 1649593: expected 4 fields, saw 5\\nSkipping line 1649597: expected 4 fields, saw 5\\nSkipping line 1649599: expected 4 fields, saw 5\\nSkipping line 1649609: expected 4 fields, saw 5\\nSkipping line 1649615: expected 4 fields, saw 5\\nSkipping line 1649625: expected 4 fields, saw 5\\nSkipping line 1649637: expected 4 fields, saw 5\\nSkipping line 1649649: expected 4 fields, saw 5\\nSkipping line 1649652: expected 4 fields, saw 5\\nSkipping line 1649660: expected 4 fields, saw 5\\nSkipping line 1649678: expected 4 fields, saw 5\\nSkipping line 1649684: expected 4 fields, saw 5\\nSkipping line 1649706: expected 4 fields, saw 5\\nSkipping line 1649709: expected 4 fields, saw 5\\nSkipping line 1649712: expected 4 fields, saw 5\\nSkipping line 1649719: expected 4 fields, saw 5\\nSkipping line 1649727: expected 4 fields, saw 5\\nSkipping line 1649737: expected 4 fields, saw 5\\nSkipping line 1649743: expected 4 fields, saw 5\\nSkipping line 1649749: expected 4 fields, saw 5\\nSkipping line 1649757: expected 4 fields, saw 5\\nSkipping line 1649769: expected 4 fields, saw 5\\nSkipping line 1649773: expected 4 fields, saw 5\\nSkipping line 1649782: expected 4 fields, saw 5\\nSkipping line 1649803: expected 4 fields, saw 5\\nSkipping line 1649811: expected 4 fields, saw 5\\nSkipping line 1649817: expected 4 fields, saw 5\\nSkipping line 1649842: expected 4 fields, saw 5\\nSkipping line 1649866: expected 4 fields, saw 5\\nSkipping line 1649896: expected 4 fields, saw 5\\nSkipping line 1649914: expected 4 fields, saw 5\\nSkipping line 1649937: expected 4 fields, saw 5\\nSkipping line 1649951: expected 4 fields, saw 5\\nSkipping line 1649970: expected 4 fields, saw 5\\nSkipping line 1649998: expected 4 fields, saw 5\\nSkipping line 1650027: expected 4 fields, saw 5\\nSkipping line 1650051: expected 4 fields, saw 5\\nSkipping line 1650079: expected 4 fields, saw 5\\nSkipping line 1650104: expected 4 fields, saw 5\\nSkipping line 1650113: expected 4 fields, saw 5\\nSkipping line 1650123: expected 4 fields, saw 5\\nSkipping line 1650136: expected 4 fields, saw 5\\nSkipping line 1650153: expected 4 fields, saw 5\\nSkipping line 1650175: expected 4 fields, saw 5\\nSkipping line 1650221: expected 4 fields, saw 5\\nSkipping line 1650238: expected 4 fields, saw 5\\nSkipping line 1650258: expected 4 fields, saw 5\\nSkipping line 1650300: expected 4 fields, saw 5\\nSkipping line 1650347: expected 4 fields, saw 5\\nSkipping line 1650362: expected 4 fields, saw 5\\nSkipping line 1650380: expected 4 fields, saw 5\\nSkipping line 1650405: expected 4 fields, saw 5\\nSkipping line 1650433: expected 4 fields, saw 5\\nSkipping line 1688346: expected 4 fields, saw 5\\nSkipping line 1701070: expected 4 fields, saw 5\\nSkipping line 1704318: expected 4 fields, saw 5\\n'\n",
      "b'Skipping line 1731413: expected 4 fields, saw 5\\nSkipping line 1781974: expected 4 fields, saw 5\\nSkipping line 1821226: expected 4 fields, saw 5\\nSkipping line 1834406: expected 4 fields, saw 5\\n'\n",
      "b'Skipping line 1884566: expected 4 fields, saw 6\\nSkipping line 1884590: expected 4 fields, saw 7\\nSkipping line 1889319: expected 4 fields, saw 5\\nSkipping line 1918243: expected 4 fields, saw 5\\nSkipping line 1947280: expected 4 fields, saw 5\\n'\n",
      "b'Skipping line 1982779: expected 4 fields, saw 5\\nSkipping line 2016466: expected 4 fields, saw 5\\nSkipping line 2025688: expected 4 fields, saw 19\\n'\n",
      "b'Skipping line 2124435: expected 4 fields, saw 15\\nSkipping line 2124545: expected 4 fields, saw 15\\n'\n",
      "b'Skipping line 2235427: expected 4 fields, saw 5\\nSkipping line 2274917: expected 4 fields, saw 5\\n'\n",
      "b'Skipping line 2372763: expected 4 fields, saw 5\\nSkipping line 2373059: expected 4 fields, saw 5\\nSkipping line 2373065: expected 4 fields, saw 5\\nSkipping line 2401265: expected 4 fields, saw 12\\nSkipping line 2401357: expected 4 fields, saw 12\\nSkipping line 2401358: expected 4 fields, saw 12\\nSkipping line 2401360: expected 4 fields, saw 12\\nSkipping line 2401361: expected 4 fields, saw 12\\nSkipping line 2401363: expected 4 fields, saw 12\\nSkipping line 2401364: expected 4 fields, saw 12\\nSkipping line 2401372: expected 4 fields, saw 12\\nSkipping line 2401373: expected 4 fields, saw 12\\nSkipping line 2401374: expected 4 fields, saw 12\\nSkipping line 2401375: expected 4 fields, saw 12\\nSkipping line 2401376: expected 4 fields, saw 12\\nSkipping line 2401386: expected 4 fields, saw 12\\nSkipping line 2401387: expected 4 fields, saw 12\\nSkipping line 2401391: expected 4 fields, saw 12\\nSkipping line 2401392: expected 4 fields, saw 12\\nSkipping line 2401393: expected 4 fields, saw 12\\nSkipping line 2401394: expected 4 fields, saw 12\\nSkipping line 2401395: expected 4 fields, saw 12\\nSkipping line 2401396: expected 4 fields, saw 12\\nSkipping line 2401397: expected 4 fields, saw 12\\nSkipping line 2401398: expected 4 fields, saw 12\\nSkipping line 2401408: expected 4 fields, saw 12\\nSkipping line 2401417: expected 4 fields, saw 12\\nSkipping line 2401418: expected 4 fields, saw 12\\nSkipping line 2401419: expected 4 fields, saw 12\\nSkipping line 2411020: expected 4 fields, saw 5\\nSkipping line 2453496: expected 4 fields, saw 5\\nSkipping line 2483377: expected 4 fields, saw 9\\nSkipping line 2483462: expected 4 fields, saw 5\\n'\n"
     ]
    },
    {
     "name": "stderr",
     "output_type": "stream",
     "text": [
      "b'Skipping line 2526176: expected 4 fields, saw 5\\nSkipping line 2536838: expected 4 fields, saw 9\\nSkipping line 2536864: expected 4 fields, saw 9\\nSkipping line 2578619: expected 4 fields, saw 5\\nSkipping line 2613413: expected 4 fields, saw 6\\nSkipping line 2615278: expected 4 fields, saw 5\\n'\n",
      "b'Skipping line 2629809: expected 4 fields, saw 5\\nSkipping line 2671185: expected 4 fields, saw 5\\nSkipping line 2671187: expected 4 fields, saw 5\\nSkipping line 2683728: expected 4 fields, saw 5\\n'\n",
      "b'Skipping line 2772105: expected 4 fields, saw 5\\nSkipping line 2817222: expected 4 fields, saw 10\\nSkipping line 2855708: expected 4 fields, saw 5\\nSkipping line 2859050: expected 4 fields, saw 11\\n'\n",
      "b'Skipping line 2915330: expected 4 fields, saw 5\\nSkipping line 2915679: expected 4 fields, saw 5\\nSkipping line 2915732: expected 4 fields, saw 5\\nSkipping line 2915988: expected 4 fields, saw 5\\nSkipping line 2921765: expected 4 fields, saw 5\\nSkipping line 2927971: expected 4 fields, saw 5\\nSkipping line 2976172: expected 4 fields, saw 5\\nSkipping line 2976435: expected 4 fields, saw 5\\nSkipping line 2976582: expected 4 fields, saw 5\\nSkipping line 2977022: expected 4 fields, saw 5\\n'\n",
      "b'Skipping line 3023704: expected 4 fields, saw 5\\nSkipping line 3083673: expected 4 fields, saw 5\\nSkipping line 3090330: expected 4 fields, saw 5\\nSkipping line 3095574: expected 4 fields, saw 5\\nSkipping line 3119701: expected 4 fields, saw 5\\nSkipping line 3121082: expected 4 fields, saw 5\\n'\n",
      "b'Skipping line 3160688: expected 4 fields, saw 5\\nSkipping line 3206086: expected 4 fields, saw 5\\nSkipping line 3237481: expected 4 fields, saw 5\\nSkipping line 3265241: expected 4 fields, saw 6\\nSkipping line 3271213: expected 4 fields, saw 5\\nSkipping line 3271217: expected 4 fields, saw 5\\n'\n",
      "b'Skipping line 3305628: expected 4 fields, saw 5\\nSkipping line 3398757: expected 4 fields, saw 5\\nSkipping line 3408459: expected 4 fields, saw 5\\n'\n",
      "b'Skipping line 3412785: expected 4 fields, saw 5\\nSkipping line 3450916: expected 4 fields, saw 5\\nSkipping line 3498172: expected 4 fields, saw 5\\nSkipping line 3540798: expected 4 fields, saw 5\\nSkipping line 3540799: expected 4 fields, saw 5\\nSkipping line 3540800: expected 4 fields, saw 5\\nSkipping line 3540801: expected 4 fields, saw 5\\n'\n",
      "b'Skipping line 3558291: expected 4 fields, saw 5\\nSkipping line 3558482: expected 4 fields, saw 5\\nSkipping line 3558581: expected 4 fields, saw 5\\nSkipping line 3576872: expected 4 fields, saw 6\\n'\n",
      "b'Skipping line 3688978: expected 4 fields, saw 17\\nSkipping line 3718445: expected 4 fields, saw 5\\nSkipping line 3738177: expected 4 fields, saw 5\\n'\n",
      "b'Skipping line 3814889: expected 4 fields, saw 5\\nSkipping line 3849059: expected 4 fields, saw 5\\nSkipping line 3880183: expected 4 fields, saw 5\\nSkipping line 3919621: expected 4 fields, saw 5\\nSkipping line 3931408: expected 4 fields, saw 5\\n'\n",
      "b'Skipping line 3946328: expected 4 fields, saw 5\\nSkipping line 4014830: expected 4 fields, saw 5\\n'\n",
      "b'Skipping line 4088059: expected 4 fields, saw 15\\nSkipping line 4112619: expected 4 fields, saw 5\\nSkipping line 4120460: expected 4 fields, saw 5\\n'\n",
      "b'Skipping line 4230033: expected 4 fields, saw 5\\nSkipping line 4230304: expected 4 fields, saw 5\\nSkipping line 4292562: expected 4 fields, saw 5\\n'\n",
      "b'Skipping line 4387341: expected 4 fields, saw 10\\nSkipping line 4403052: expected 4 fields, saw 5\\n'\n",
      "b'Skipping line 4559207: expected 4 fields, saw 5\\nSkipping line 4559362: expected 4 fields, saw 5\\nSkipping line 4588926: expected 4 fields, saw 12\\nSkipping line 4589031: expected 4 fields, saw 12\\n'\n",
      "b'Skipping line 4604529: expected 4 fields, saw 5\\nSkipping line 4636107: expected 4 fields, saw 5\\nSkipping line 4638851: expected 4 fields, saw 5\\nSkipping line 4651428: expected 4 fields, saw 5\\nSkipping line 4651740: expected 4 fields, saw 5\\nSkipping line 4707573: expected 4 fields, saw 6\\nSkipping line 4717413: expected 4 fields, saw 5\\n'\n",
      "b'Skipping line 4738042: expected 4 fields, saw 5\\n'\n",
      "b'Skipping line 4858276: expected 4 fields, saw 5\\nSkipping line 4858367: expected 4 fields, saw 5\\nSkipping line 4858368: expected 4 fields, saw 5\\nSkipping line 4858369: expected 4 fields, saw 5\\nSkipping line 4858371: expected 4 fields, saw 5\\nSkipping line 4858379: expected 4 fields, saw 5\\nSkipping line 4858380: expected 4 fields, saw 5\\nSkipping line 4858381: expected 4 fields, saw 5\\nSkipping line 4858382: expected 4 fields, saw 5\\nSkipping line 4858416: expected 4 fields, saw 5\\nSkipping line 4858417: expected 4 fields, saw 5\\nSkipping line 4858418: expected 4 fields, saw 5\\nSkipping line 4858448: expected 4 fields, saw 5\\nSkipping line 4858450: expected 4 fields, saw 5\\nSkipping line 4858451: expected 4 fields, saw 5\\nSkipping line 4858452: expected 4 fields, saw 5\\nSkipping line 4858526: expected 4 fields, saw 5\\nSkipping line 4858537: expected 4 fields, saw 5\\nSkipping line 4858645: expected 4 fields, saw 5\\nSkipping line 4858651: expected 4 fields, saw 5\\nSkipping line 4858677: expected 4 fields, saw 5\\nSkipping line 4858678: expected 4 fields, saw 5\\nSkipping line 4858697: expected 4 fields, saw 5\\nSkipping line 4858698: expected 4 fields, saw 5\\nSkipping line 4858699: expected 4 fields, saw 5\\nSkipping line 4858732: expected 4 fields, saw 5\\nSkipping line 4858733: expected 4 fields, saw 5\\nSkipping line 4858734: expected 4 fields, saw 5\\nSkipping line 4858751: expected 4 fields, saw 5\\nSkipping line 4858759: expected 4 fields, saw 5\\nSkipping line 4859002: expected 4 fields, saw 5\\nSkipping line 4859135: expected 4 fields, saw 5\\nSkipping line 4859160: expected 4 fields, saw 5\\nSkipping line 4865684: expected 4 fields, saw 5\\nSkipping line 4875119: expected 4 fields, saw 5\\nSkipping line 4937750: expected 4 fields, saw 5\\n'\n",
      "b'Skipping line 5012781: expected 4 fields, saw 5\\nSkipping line 5021841: expected 4 fields, saw 5\\nSkipping line 5032085: expected 4 fields, saw 5\\nSkipping line 5032636: expected 4 fields, saw 5\\nSkipping line 5091404: expected 4 fields, saw 5\\n'\n"
     ]
    },
    {
     "data": {
      "text/html": [
       "<div>\n",
       "<style scoped>\n",
       "    .dataframe tbody tr th:only-of-type {\n",
       "        vertical-align: middle;\n",
       "    }\n",
       "\n",
       "    .dataframe tbody tr th {\n",
       "        vertical-align: top;\n",
       "    }\n",
       "\n",
       "    .dataframe thead th {\n",
       "        text-align: right;\n",
       "    }\n",
       "</style>\n",
       "<table border=\"1\" class=\"dataframe\">\n",
       "  <thead>\n",
       "    <tr style=\"text-align: right;\">\n",
       "      <th></th>\n",
       "      <th>0</th>\n",
       "      <th>1</th>\n",
       "      <th>2</th>\n",
       "      <th>3</th>\n",
       "    </tr>\n",
       "  </thead>\n",
       "  <tbody>\n",
       "    <tr>\n",
       "      <th>0</th>\n",
       "      <td>22077441</td>\n",
       "      <td>10538487904</td>\n",
       "      <td>Ok today I have to find something to wear for ...</td>\n",
       "      <td>2010-03-15 17:35:58</td>\n",
       "    </tr>\n",
       "    <tr>\n",
       "      <th>1</th>\n",
       "      <td>22077441</td>\n",
       "      <td>10536835844</td>\n",
       "      <td>I am glad I'm having this show but I can't wai...</td>\n",
       "      <td>2010-03-15 16:53:44</td>\n",
       "    </tr>\n",
       "    <tr>\n",
       "      <th>2</th>\n",
       "      <td>22077441</td>\n",
       "      <td>10536809086</td>\n",
       "      <td>Honestly I don't even know what's going on any...</td>\n",
       "      <td>2010-03-15 16:52:59</td>\n",
       "    </tr>\n",
       "    <tr>\n",
       "      <th>3</th>\n",
       "      <td>22077441</td>\n",
       "      <td>10534149786</td>\n",
       "      <td>@LovelyJ_Janelle hey sorry I'm sitting infront...</td>\n",
       "      <td>2010-03-15 15:42:07</td>\n",
       "    </tr>\n",
       "    <tr>\n",
       "      <th>4</th>\n",
       "      <td>22077441</td>\n",
       "      <td>10530203659</td>\n",
       "      <td>Sitting infront of this sewing machine ... I d...</td>\n",
       "      <td>2010-03-15 13:55:22</td>\n",
       "    </tr>\n",
       "  </tbody>\n",
       "</table>\n",
       "</div>"
      ],
      "text/plain": [
       "          0            1                                                  2  \\\n",
       "0  22077441  10538487904  Ok today I have to find something to wear for ...   \n",
       "1  22077441  10536835844  I am glad I'm having this show but I can't wai...   \n",
       "2  22077441  10536809086  Honestly I don't even know what's going on any...   \n",
       "3  22077441  10534149786  @LovelyJ_Janelle hey sorry I'm sitting infront...   \n",
       "4  22077441  10530203659  Sitting infront of this sewing machine ... I d...   \n",
       "\n",
       "                     3  \n",
       "0  2010-03-15 17:35:58  \n",
       "1  2010-03-15 16:53:44  \n",
       "2  2010-03-15 16:52:59  \n",
       "3  2010-03-15 15:42:07  \n",
       "4  2010-03-15 13:55:22  "
      ]
     },
     "execution_count": 7,
     "metadata": {},
     "output_type": "execute_result"
    }
   ],
   "source": [
    "df3 = pd.read_csv('rawdata/test_set_tweets.txt', error_bad_lines=False, header=None, sep='\\t')\n",
    "df3.head()"
   ]
  },
  {
   "cell_type": "code",
   "execution_count": 9,
   "metadata": {},
   "outputs": [
    {
     "data": {
      "text/plain": [
       "(5135949, 2)"
      ]
     },
     "execution_count": 9,
     "metadata": {},
     "output_type": "execute_result"
    }
   ],
   "source": [
    "df3['Tweet'] = df3[2]\n",
    "df3['Category'] = 0\n",
    "df3 = df3[['Tweet', 'Category']]\n",
    "df3.shape"
   ]
  },
  {
   "cell_type": "code",
   "execution_count": 13,
   "metadata": {},
   "outputs": [
    {
     "data": {
      "text/plain": [
       "(6736447, 3)"
      ]
     },
     "execution_count": 13,
     "metadata": {},
     "output_type": "execute_result"
    }
   ],
   "source": [
    "df = pd.concat([df1, df2, df3]).reset_index()\n",
    "df.shape"
   ]
  },
  {
   "cell_type": "code",
   "execution_count": 15,
   "metadata": {},
   "outputs": [
    {
     "data": {
      "text/plain": [
       "(6736447, 3)"
      ]
     },
     "execution_count": 15,
     "metadata": {},
     "output_type": "execute_result"
    }
   ],
   "source": [
    "df = df.drop_duplicates()\n",
    "df.shape"
   ]
  },
  {
   "cell_type": "code",
   "execution_count": 18,
   "metadata": {},
   "outputs": [],
   "source": [
    "df[['Tweet', 'Category']].to_csv('data/data.csv', index=False)"
   ]
  },
  {
   "cell_type": "code",
   "execution_count": 17,
   "metadata": {},
   "outputs": [
    {
     "data": {
      "text/html": [
       "<div>\n",
       "<style scoped>\n",
       "    .dataframe tbody tr th:only-of-type {\n",
       "        vertical-align: middle;\n",
       "    }\n",
       "\n",
       "    .dataframe tbody tr th {\n",
       "        vertical-align: top;\n",
       "    }\n",
       "\n",
       "    .dataframe thead th {\n",
       "        text-align: right;\n",
       "    }\n",
       "</style>\n",
       "<table border=\"1\" class=\"dataframe\">\n",
       "  <thead>\n",
       "    <tr style=\"text-align: right;\">\n",
       "      <th></th>\n",
       "      <th>index</th>\n",
       "      <th>Tweet</th>\n",
       "      <th>Category</th>\n",
       "    </tr>\n",
       "  </thead>\n",
       "  <tbody>\n",
       "    <tr>\n",
       "      <th>0</th>\n",
       "      <td>0</td>\n",
       "      <td>@stellargirl I loooooooovvvvvveee my Kindle2. ...</td>\n",
       "      <td>0</td>\n",
       "    </tr>\n",
       "    <tr>\n",
       "      <th>1</th>\n",
       "      <td>1</td>\n",
       "      <td>Reading my kindle2...  Love it... Lee childs i...</td>\n",
       "      <td>0</td>\n",
       "    </tr>\n",
       "    <tr>\n",
       "      <th>2</th>\n",
       "      <td>2</td>\n",
       "      <td>Ok, first assesment of the #kindle2 ...it fuck...</td>\n",
       "      <td>0</td>\n",
       "    </tr>\n",
       "    <tr>\n",
       "      <th>3</th>\n",
       "      <td>3</td>\n",
       "      <td>@kenburbary You'll love your Kindle2. I've had...</td>\n",
       "      <td>0</td>\n",
       "    </tr>\n",
       "    <tr>\n",
       "      <th>4</th>\n",
       "      <td>4</td>\n",
       "      <td>@mikefish  Fair enough. But i have the Kindle2...</td>\n",
       "      <td>0</td>\n",
       "    </tr>\n",
       "  </tbody>\n",
       "</table>\n",
       "</div>"
      ],
      "text/plain": [
       "   index                                              Tweet  Category\n",
       "0      0  @stellargirl I loooooooovvvvvveee my Kindle2. ...         0\n",
       "1      1  Reading my kindle2...  Love it... Lee childs i...         0\n",
       "2      2  Ok, first assesment of the #kindle2 ...it fuck...         0\n",
       "3      3  @kenburbary You'll love your Kindle2. I've had...         0\n",
       "4      4  @mikefish  Fair enough. But i have the Kindle2...         0"
      ]
     },
     "execution_count": 17,
     "metadata": {},
     "output_type": "execute_result"
    }
   ],
   "source": [
    "df.head()"
   ]
  },
  {
   "cell_type": "code",
   "execution_count": 20,
   "metadata": {},
   "outputs": [
    {
     "name": "stderr",
     "output_type": "stream",
     "text": [
      "C:\\Users\\darin\\Anaconda3\\lib\\site-packages\\IPython\\core\\interactiveshell.py:3214: DtypeWarning: Columns (0,15,20) have mixed types. Specify dtype option on import or set low_memory=False.\n",
      "  if (yield from self.run_code(code, result)):\n",
      "C:\\Users\\darin\\Anaconda3\\lib\\site-packages\\IPython\\core\\interactiveshell.py:3214: DtypeWarning: Columns (20) have mixed types. Specify dtype option on import or set low_memory=False.\n",
      "  if (yield from self.run_code(code, result)):\n",
      "C:\\Users\\darin\\Anaconda3\\lib\\site-packages\\IPython\\core\\interactiveshell.py:3214: DtypeWarning: Columns (10,20) have mixed types. Specify dtype option on import or set low_memory=False.\n",
      "  if (yield from self.run_code(code, result)):\n"
     ]
    },
    {
     "data": {
      "text/html": [
       "<div>\n",
       "<style scoped>\n",
       "    .dataframe tbody tr th:only-of-type {\n",
       "        vertical-align: middle;\n",
       "    }\n",
       "\n",
       "    .dataframe tbody tr th {\n",
       "        vertical-align: top;\n",
       "    }\n",
       "\n",
       "    .dataframe thead th {\n",
       "        text-align: right;\n",
       "    }\n",
       "</style>\n",
       "<table border=\"1\" class=\"dataframe\">\n",
       "  <thead>\n",
       "    <tr style=\"text-align: right;\">\n",
       "      <th></th>\n",
       "      <th>external_author_id</th>\n",
       "      <th>author</th>\n",
       "      <th>content</th>\n",
       "      <th>region</th>\n",
       "      <th>language</th>\n",
       "      <th>publish_date</th>\n",
       "      <th>harvested_date</th>\n",
       "      <th>following</th>\n",
       "      <th>followers</th>\n",
       "      <th>updates</th>\n",
       "      <th>...</th>\n",
       "      <th>account_type</th>\n",
       "      <th>retweet</th>\n",
       "      <th>account_category</th>\n",
       "      <th>new_june_2018</th>\n",
       "      <th>alt_external_id</th>\n",
       "      <th>tweet_id</th>\n",
       "      <th>article_url</th>\n",
       "      <th>tco1_step1</th>\n",
       "      <th>tco2_step1</th>\n",
       "      <th>tco3_step1</th>\n",
       "    </tr>\n",
       "  </thead>\n",
       "  <tbody>\n",
       "    <tr>\n",
       "      <th>0</th>\n",
       "      <td>906000000000000000</td>\n",
       "      <td>10_GOP</td>\n",
       "      <td>\"We have a sitting Democrat US Senator on tria...</td>\n",
       "      <td>Unknown</td>\n",
       "      <td>English</td>\n",
       "      <td>10/1/2017 19:58</td>\n",
       "      <td>10/1/2017 19:59</td>\n",
       "      <td>1052</td>\n",
       "      <td>9636</td>\n",
       "      <td>253</td>\n",
       "      <td>...</td>\n",
       "      <td>Right</td>\n",
       "      <td>0</td>\n",
       "      <td>RightTroll</td>\n",
       "      <td>0</td>\n",
       "      <td>905874659358453760</td>\n",
       "      <td>914580356430536707</td>\n",
       "      <td>http://twitter.com/905874659358453760/statuses...</td>\n",
       "      <td>https://twitter.com/10_gop/status/914580356430...</td>\n",
       "      <td>NaN</td>\n",
       "      <td>NaN</td>\n",
       "    </tr>\n",
       "    <tr>\n",
       "      <th>1</th>\n",
       "      <td>906000000000000000</td>\n",
       "      <td>10_GOP</td>\n",
       "      <td>Marshawn Lynch arrives to game in anti-Trump s...</td>\n",
       "      <td>Unknown</td>\n",
       "      <td>English</td>\n",
       "      <td>10/1/2017 22:43</td>\n",
       "      <td>10/1/2017 22:43</td>\n",
       "      <td>1054</td>\n",
       "      <td>9637</td>\n",
       "      <td>254</td>\n",
       "      <td>...</td>\n",
       "      <td>Right</td>\n",
       "      <td>0</td>\n",
       "      <td>RightTroll</td>\n",
       "      <td>0</td>\n",
       "      <td>905874659358453760</td>\n",
       "      <td>914621840496189440</td>\n",
       "      <td>http://twitter.com/905874659358453760/statuses...</td>\n",
       "      <td>https://twitter.com/damienwoody/status/9145685...</td>\n",
       "      <td>NaN</td>\n",
       "      <td>NaN</td>\n",
       "    </tr>\n",
       "    <tr>\n",
       "      <th>2</th>\n",
       "      <td>906000000000000000</td>\n",
       "      <td>10_GOP</td>\n",
       "      <td>Daughter of fallen Navy Sailor delivers powerf...</td>\n",
       "      <td>Unknown</td>\n",
       "      <td>English</td>\n",
       "      <td>10/1/2017 22:50</td>\n",
       "      <td>10/1/2017 22:51</td>\n",
       "      <td>1054</td>\n",
       "      <td>9637</td>\n",
       "      <td>255</td>\n",
       "      <td>...</td>\n",
       "      <td>Right</td>\n",
       "      <td>1</td>\n",
       "      <td>RightTroll</td>\n",
       "      <td>0</td>\n",
       "      <td>905874659358453760</td>\n",
       "      <td>914623490375979008</td>\n",
       "      <td>http://twitter.com/905874659358453760/statuses...</td>\n",
       "      <td>https://twitter.com/10_gop/status/913231923715...</td>\n",
       "      <td>NaN</td>\n",
       "      <td>NaN</td>\n",
       "    </tr>\n",
       "    <tr>\n",
       "      <th>3</th>\n",
       "      <td>906000000000000000</td>\n",
       "      <td>10_GOP</td>\n",
       "      <td>JUST IN: President Trump dedicates Presidents ...</td>\n",
       "      <td>Unknown</td>\n",
       "      <td>English</td>\n",
       "      <td>10/1/2017 23:52</td>\n",
       "      <td>10/1/2017 23:52</td>\n",
       "      <td>1062</td>\n",
       "      <td>9642</td>\n",
       "      <td>256</td>\n",
       "      <td>...</td>\n",
       "      <td>Right</td>\n",
       "      <td>0</td>\n",
       "      <td>RightTroll</td>\n",
       "      <td>0</td>\n",
       "      <td>905874659358453760</td>\n",
       "      <td>914639143690555392</td>\n",
       "      <td>http://twitter.com/905874659358453760/statuses...</td>\n",
       "      <td>https://twitter.com/10_gop/status/914639143690...</td>\n",
       "      <td>NaN</td>\n",
       "      <td>NaN</td>\n",
       "    </tr>\n",
       "    <tr>\n",
       "      <th>4</th>\n",
       "      <td>906000000000000000</td>\n",
       "      <td>10_GOP</td>\n",
       "      <td>19,000 RESPECTING our National Anthem! #StandF...</td>\n",
       "      <td>Unknown</td>\n",
       "      <td>English</td>\n",
       "      <td>10/1/2017 2:13</td>\n",
       "      <td>10/1/2017 2:13</td>\n",
       "      <td>1050</td>\n",
       "      <td>9645</td>\n",
       "      <td>246</td>\n",
       "      <td>...</td>\n",
       "      <td>Right</td>\n",
       "      <td>1</td>\n",
       "      <td>RightTroll</td>\n",
       "      <td>0</td>\n",
       "      <td>905874659358453760</td>\n",
       "      <td>914312219952861184</td>\n",
       "      <td>http://twitter.com/905874659358453760/statuses...</td>\n",
       "      <td>https://twitter.com/realDonaldTrump/status/914...</td>\n",
       "      <td>NaN</td>\n",
       "      <td>NaN</td>\n",
       "    </tr>\n",
       "  </tbody>\n",
       "</table>\n",
       "<p>5 rows × 21 columns</p>\n",
       "</div>"
      ],
      "text/plain": [
       "   external_author_id  author  \\\n",
       "0  906000000000000000  10_GOP   \n",
       "1  906000000000000000  10_GOP   \n",
       "2  906000000000000000  10_GOP   \n",
       "3  906000000000000000  10_GOP   \n",
       "4  906000000000000000  10_GOP   \n",
       "\n",
       "                                             content   region language  \\\n",
       "0  \"We have a sitting Democrat US Senator on tria...  Unknown  English   \n",
       "1  Marshawn Lynch arrives to game in anti-Trump s...  Unknown  English   \n",
       "2  Daughter of fallen Navy Sailor delivers powerf...  Unknown  English   \n",
       "3  JUST IN: President Trump dedicates Presidents ...  Unknown  English   \n",
       "4  19,000 RESPECTING our National Anthem! #StandF...  Unknown  English   \n",
       "\n",
       "      publish_date   harvested_date  following  followers  updates  ...  \\\n",
       "0  10/1/2017 19:58  10/1/2017 19:59       1052       9636      253  ...   \n",
       "1  10/1/2017 22:43  10/1/2017 22:43       1054       9637      254  ...   \n",
       "2  10/1/2017 22:50  10/1/2017 22:51       1054       9637      255  ...   \n",
       "3  10/1/2017 23:52  10/1/2017 23:52       1062       9642      256  ...   \n",
       "4   10/1/2017 2:13   10/1/2017 2:13       1050       9645      246  ...   \n",
       "\n",
       "  account_type retweet  account_category new_june_2018     alt_external_id  \\\n",
       "0        Right       0        RightTroll             0  905874659358453760   \n",
       "1        Right       0        RightTroll             0  905874659358453760   \n",
       "2        Right       1        RightTroll             0  905874659358453760   \n",
       "3        Right       0        RightTroll             0  905874659358453760   \n",
       "4        Right       1        RightTroll             0  905874659358453760   \n",
       "\n",
       "             tweet_id                                        article_url  \\\n",
       "0  914580356430536707  http://twitter.com/905874659358453760/statuses...   \n",
       "1  914621840496189440  http://twitter.com/905874659358453760/statuses...   \n",
       "2  914623490375979008  http://twitter.com/905874659358453760/statuses...   \n",
       "3  914639143690555392  http://twitter.com/905874659358453760/statuses...   \n",
       "4  914312219952861184  http://twitter.com/905874659358453760/statuses...   \n",
       "\n",
       "                                          tco1_step1 tco2_step1 tco3_step1  \n",
       "0  https://twitter.com/10_gop/status/914580356430...        NaN        NaN  \n",
       "1  https://twitter.com/damienwoody/status/9145685...        NaN        NaN  \n",
       "2  https://twitter.com/10_gop/status/913231923715...        NaN        NaN  \n",
       "3  https://twitter.com/10_gop/status/914639143690...        NaN        NaN  \n",
       "4  https://twitter.com/realDonaldTrump/status/914...        NaN        NaN  \n",
       "\n",
       "[5 rows x 21 columns]"
      ]
     },
     "execution_count": 20,
     "metadata": {},
     "output_type": "execute_result"
    }
   ],
   "source": [
    "dfr = pd.concat([pd.read_csv('rawdata/IRAhandle_tweets_{}.csv'.format(a)) for a in range(1,14)])\n",
    "dfr.head()"
   ]
  },
  {
   "cell_type": "code",
   "execution_count": 21,
   "metadata": {},
   "outputs": [
    {
     "data": {
      "text/plain": [
       "(2946207, 21)"
      ]
     },
     "execution_count": 21,
     "metadata": {},
     "output_type": "execute_result"
    }
   ],
   "source": [
    "dfr.shape"
   ]
  },
  {
   "cell_type": "code",
   "execution_count": 22,
   "metadata": {},
   "outputs": [
    {
     "data": {
      "text/html": [
       "<div>\n",
       "<style scoped>\n",
       "    .dataframe tbody tr th:only-of-type {\n",
       "        vertical-align: middle;\n",
       "    }\n",
       "\n",
       "    .dataframe tbody tr th {\n",
       "        vertical-align: top;\n",
       "    }\n",
       "\n",
       "    .dataframe thead th {\n",
       "        text-align: right;\n",
       "    }\n",
       "</style>\n",
       "<table border=\"1\" class=\"dataframe\">\n",
       "  <thead>\n",
       "    <tr style=\"text-align: right;\">\n",
       "      <th></th>\n",
       "      <th>Tweet</th>\n",
       "      <th>Category</th>\n",
       "    </tr>\n",
       "  </thead>\n",
       "  <tbody>\n",
       "    <tr>\n",
       "      <th>0</th>\n",
       "      <td>\"We have a sitting Democrat US Senator on tria...</td>\n",
       "      <td>1</td>\n",
       "    </tr>\n",
       "    <tr>\n",
       "      <th>1</th>\n",
       "      <td>Marshawn Lynch arrives to game in anti-Trump s...</td>\n",
       "      <td>1</td>\n",
       "    </tr>\n",
       "    <tr>\n",
       "      <th>2</th>\n",
       "      <td>Daughter of fallen Navy Sailor delivers powerf...</td>\n",
       "      <td>1</td>\n",
       "    </tr>\n",
       "    <tr>\n",
       "      <th>3</th>\n",
       "      <td>JUST IN: President Trump dedicates Presidents ...</td>\n",
       "      <td>1</td>\n",
       "    </tr>\n",
       "    <tr>\n",
       "      <th>4</th>\n",
       "      <td>19,000 RESPECTING our National Anthem! #StandF...</td>\n",
       "      <td>1</td>\n",
       "    </tr>\n",
       "  </tbody>\n",
       "</table>\n",
       "</div>"
      ],
      "text/plain": [
       "                                               Tweet  Category\n",
       "0  \"We have a sitting Democrat US Senator on tria...         1\n",
       "1  Marshawn Lynch arrives to game in anti-Trump s...         1\n",
       "2  Daughter of fallen Navy Sailor delivers powerf...         1\n",
       "3  JUST IN: President Trump dedicates Presidents ...         1\n",
       "4  19,000 RESPECTING our National Anthem! #StandF...         1"
      ]
     },
     "execution_count": 22,
     "metadata": {},
     "output_type": "execute_result"
    }
   ],
   "source": [
    "dfr['Tweet'] = dfr['content']\n",
    "dfr['Category'] = 1\n",
    "\n",
    "dfr = dfr[['Tweet', 'Category']]\n",
    "dfr.head()"
   ]
  },
  {
   "cell_type": "code",
   "execution_count": 26,
   "metadata": {},
   "outputs": [
    {
     "data": {
      "text/plain": [
       "(6710610, 4)"
      ]
     },
     "execution_count": 26,
     "metadata": {},
     "output_type": "execute_result"
    }
   ],
   "source": [
    "dfrc = dfr.copy()\n",
    "dfrc['Kill'] = 1\n",
    "dfn = pd.merge(df,dfrc[['Tweet', 'Kill']], on='Tweet', how='left').fillna(0)\n",
    "dfn = dfn[dfn['Kill']==0]\n",
    "dfn.shape"
   ]
  },
  {
   "cell_type": "code",
   "execution_count": 28,
   "metadata": {},
   "outputs": [
    {
     "data": {
      "text/plain": [
       "25837"
      ]
     },
     "execution_count": 28,
     "metadata": {},
     "output_type": "execute_result"
    }
   ],
   "source": [
    "df.shape[0]-dfn.shape[0]"
   ]
  },
  {
   "cell_type": "code",
   "execution_count": 29,
   "metadata": {},
   "outputs": [],
   "source": [
    "dff = pd.concat([dfn[['Tweet', 'Category']], dfr[['Tweet', 'Category']]])\n",
    "df[['Tweet', 'Category']].to_csv('data/data.csv', index=False)"
   ]
  },
  {
   "cell_type": "markdown",
   "metadata": {},
   "source": [
    "### Git filesizes are an issue"
   ]
  },
  {
   "cell_type": "code",
   "execution_count": 3,
   "metadata": {},
   "outputs": [
    {
     "data": {
      "text/html": [
       "<div>\n",
       "<style scoped>\n",
       "    .dataframe tbody tr th:only-of-type {\n",
       "        vertical-align: middle;\n",
       "    }\n",
       "\n",
       "    .dataframe tbody tr th {\n",
       "        vertical-align: top;\n",
       "    }\n",
       "\n",
       "    .dataframe thead th {\n",
       "        text-align: right;\n",
       "    }\n",
       "</style>\n",
       "<table border=\"1\" class=\"dataframe\">\n",
       "  <thead>\n",
       "    <tr style=\"text-align: right;\">\n",
       "      <th></th>\n",
       "      <th>Tweet</th>\n",
       "      <th>Category</th>\n",
       "    </tr>\n",
       "  </thead>\n",
       "  <tbody>\n",
       "    <tr>\n",
       "      <th>0</th>\n",
       "      <td>@stellargirl I loooooooovvvvvveee my Kindle2. ...</td>\n",
       "      <td>0</td>\n",
       "    </tr>\n",
       "    <tr>\n",
       "      <th>1</th>\n",
       "      <td>Reading my kindle2...  Love it... Lee childs i...</td>\n",
       "      <td>0</td>\n",
       "    </tr>\n",
       "    <tr>\n",
       "      <th>2</th>\n",
       "      <td>Ok, first assesment of the #kindle2 ...it fuck...</td>\n",
       "      <td>0</td>\n",
       "    </tr>\n",
       "    <tr>\n",
       "      <th>3</th>\n",
       "      <td>@kenburbary You'll love your Kindle2. I've had...</td>\n",
       "      <td>0</td>\n",
       "    </tr>\n",
       "    <tr>\n",
       "      <th>4</th>\n",
       "      <td>@mikefish  Fair enough. But i have the Kindle2...</td>\n",
       "      <td>0</td>\n",
       "    </tr>\n",
       "  </tbody>\n",
       "</table>\n",
       "</div>"
      ],
      "text/plain": [
       "                                               Tweet  Category\n",
       "0  @stellargirl I loooooooovvvvvveee my Kindle2. ...         0\n",
       "1  Reading my kindle2...  Love it... Lee childs i...         0\n",
       "2  Ok, first assesment of the #kindle2 ...it fuck...         0\n",
       "3  @kenburbary You'll love your Kindle2. I've had...         0\n",
       "4  @mikefish  Fair enough. But i have the Kindle2...         0"
      ]
     },
     "execution_count": 3,
     "metadata": {},
     "output_type": "execute_result"
    }
   ],
   "source": [
    "import pandas as pd\n",
    "df = pd.read_csv('data/data.csv')\n",
    "df.head()"
   ]
  },
  {
   "cell_type": "code",
   "execution_count": 4,
   "metadata": {},
   "outputs": [
    {
     "data": {
      "text/html": [
       "<div>\n",
       "<style scoped>\n",
       "    .dataframe tbody tr th:only-of-type {\n",
       "        vertical-align: middle;\n",
       "    }\n",
       "\n",
       "    .dataframe tbody tr th {\n",
       "        vertical-align: top;\n",
       "    }\n",
       "\n",
       "    .dataframe thead th {\n",
       "        text-align: right;\n",
       "    }\n",
       "</style>\n",
       "<table border=\"1\" class=\"dataframe\">\n",
       "  <thead>\n",
       "    <tr style=\"text-align: right;\">\n",
       "      <th></th>\n",
       "      <th>Tweet</th>\n",
       "      <th>Category</th>\n",
       "      <th>file</th>\n",
       "    </tr>\n",
       "  </thead>\n",
       "  <tbody>\n",
       "    <tr>\n",
       "      <th>0</th>\n",
       "      <td>@stellargirl I loooooooovvvvvveee my Kindle2. ...</td>\n",
       "      <td>0</td>\n",
       "      <td>4</td>\n",
       "    </tr>\n",
       "    <tr>\n",
       "      <th>1</th>\n",
       "      <td>Reading my kindle2...  Love it... Lee childs i...</td>\n",
       "      <td>0</td>\n",
       "      <td>5</td>\n",
       "    </tr>\n",
       "    <tr>\n",
       "      <th>2</th>\n",
       "      <td>Ok, first assesment of the #kindle2 ...it fuck...</td>\n",
       "      <td>0</td>\n",
       "      <td>4</td>\n",
       "    </tr>\n",
       "    <tr>\n",
       "      <th>3</th>\n",
       "      <td>@kenburbary You'll love your Kindle2. I've had...</td>\n",
       "      <td>0</td>\n",
       "      <td>3</td>\n",
       "    </tr>\n",
       "    <tr>\n",
       "      <th>4</th>\n",
       "      <td>@mikefish  Fair enough. But i have the Kindle2...</td>\n",
       "      <td>0</td>\n",
       "      <td>2</td>\n",
       "    </tr>\n",
       "  </tbody>\n",
       "</table>\n",
       "</div>"
      ],
      "text/plain": [
       "                                               Tweet  Category  file\n",
       "0  @stellargirl I loooooooovvvvvveee my Kindle2. ...         0     4\n",
       "1  Reading my kindle2...  Love it... Lee childs i...         0     5\n",
       "2  Ok, first assesment of the #kindle2 ...it fuck...         0     4\n",
       "3  @kenburbary You'll love your Kindle2. I've had...         0     3\n",
       "4  @mikefish  Fair enough. But i have the Kindle2...         0     2"
      ]
     },
     "execution_count": 4,
     "metadata": {},
     "output_type": "execute_result"
    }
   ],
   "source": [
    "import numpy as np\n",
    "df['file'] = np.random.randint(0,7,df.shape[0])\n",
    "df.head()"
   ]
  },
  {
   "cell_type": "code",
   "execution_count": 5,
   "metadata": {},
   "outputs": [
    {
     "name": "stdout",
     "output_type": "stream",
     "text": [
      "                                                Tweet  Category  file\n",
      "10  Check this video out -- President Obama at the...         0     0\n",
      "12  House Correspondents dinner was last night who...         0     0\n",
      "18  @ludajuice Lebron is a Beast, but I'm still ch...         0     0\n",
      "38  RT @jessverr I love the nerdy Stanford human b...         0     0\n",
      "47             San Francisco today.  Any suggestions?         0     0\n",
      "-------------------------\n",
      "                                                Tweet  Category  file\n",
      "9   how can you not love Obama? he makes jokes abo...         0     1\n",
      "13  Watchin Espn..Jus seen this new Nike Commerica...         0     1\n",
      "22  @wordwhizkid Lebron is a beast... nobody in th...         0     1\n",
      "23  downloading apps for my iphone! So much fun :-...         0     1\n",
      "27  Booz Allen Hamilton has a bad ass homegrown so...         0     1\n",
      "-------------------------\n",
      "                                                Tweet  Category  file\n",
      "4   @mikefish  Fair enough. But i have the Kindle2...         0     2\n",
      "15  #lebron best athlete of our generation, if not...         0     2\n",
      "17                 i love lebron. http://bit.ly/PdHur         0     2\n",
      "21        lebron and zydrunas are such an awesome duo         0     2\n",
      "25  http://twurl.nl/epkr4b - awesome come back fro...         0     2\n",
      "-------------------------\n",
      "                                                Tweet  Category  file\n",
      "3   @kenburbary You'll love your Kindle2. I've had...         0     3\n",
      "5   @richardebaker no. it is too big. I'm quite ha...         0     3\n",
      "7                       Jquery is my new best friend.         0     3\n",
      "20  @sketchbug Lebron is a hometown hero to me, lo...         0     3\n",
      "28  [#MLUC09] Customer Innovation Award Winner: Bo...         0     3\n",
      "-------------------------\n",
      "                                                Tweet  Category  file\n",
      "0   @stellargirl I loooooooovvvvvveee my Kindle2. ...         0     4\n",
      "2   Ok, first assesment of the #kindle2 ...it fuck...         0     4\n",
      "6   Fuck this economy. I hate aig and their non lo...         0     4\n",
      "11  @Karoli I firmly believe that Obama/Pelosi hav...         0     4\n",
      "14  dear nike, stop with the flywire. that shit is...         0     4\n",
      "-------------------------\n",
      "                                                Tweet  Category  file\n",
      "1   Reading my kindle2...  Love it... Lee childs i...         0     5\n",
      "8                                       Loves twitter         0     5\n",
      "32  @phyreman9 Google is always a good place to lo...         0     5\n",
      "33  Played with an android google phone. The slide...         0     5\n",
      "42                  cant sleep... my tooth is aching.         0     5\n",
      "-------------------------\n",
      "Empty DataFrame\n",
      "Columns: [Tweet, Category, file]\n",
      "Index: []\n",
      "-------------------------\n"
     ]
    }
   ],
   "source": [
    "for a in range(7):\n",
    "    temp = df[df['file']==a].copy()\n",
    "    print(temp.head())\n",
    "    temp[['Tweet', 'Category']].to_csv('data/data_{}.csv'.format(a), index=False)\n",
    "    print('-'*25)"
   ]
  },
  {
   "cell_type": "code",
   "execution_count": null,
   "metadata": {},
   "outputs": [],
   "source": []
  }
 ],
 "metadata": {
  "kernelspec": {
   "display_name": "Python 3",
   "language": "python",
   "name": "python3"
  },
  "language_info": {
   "codemirror_mode": {
    "name": "ipython",
    "version": 3
   },
   "file_extension": ".py",
   "mimetype": "text/x-python",
   "name": "python",
   "nbconvert_exporter": "python",
   "pygments_lexer": "ipython3",
   "version": "3.7.3"
  }
 },
 "nbformat": 4,
 "nbformat_minor": 2
}
