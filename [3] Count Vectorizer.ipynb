{
 "cells": [
  {
   "cell_type": "code",
   "execution_count": 1,
   "metadata": {},
   "outputs": [
    {
     "data": {
      "text/html": [
       "<div>\n",
       "<style scoped>\n",
       "    .dataframe tbody tr th:only-of-type {\n",
       "        vertical-align: middle;\n",
       "    }\n",
       "\n",
       "    .dataframe tbody tr th {\n",
       "        vertical-align: top;\n",
       "    }\n",
       "\n",
       "    .dataframe thead th {\n",
       "        text-align: right;\n",
       "    }\n",
       "</style>\n",
       "<table border=\"1\" class=\"dataframe\">\n",
       "  <thead>\n",
       "    <tr style=\"text-align: right;\">\n",
       "      <th></th>\n",
       "      <th>Tweet</th>\n",
       "      <th>Category</th>\n",
       "      <th>Words</th>\n",
       "      <th>Processed</th>\n",
       "    </tr>\n",
       "  </thead>\n",
       "  <tbody>\n",
       "    <tr>\n",
       "      <th>1</th>\n",
       "      <td>@ludajuice Lebron is a Beast, but I'm still ch...</td>\n",
       "      <td>0</td>\n",
       "      <td>14</td>\n",
       "      <td>@ NN VBZ a NN but NN RB VBG CD the NN the NN</td>\n",
       "    </tr>\n",
       "    <tr>\n",
       "      <th>2</th>\n",
       "      <td>@wordwhizkid Lebron is a beast... nobody in th...</td>\n",
       "      <td>0</td>\n",
       "      <td>12</td>\n",
       "      <td>@ NN VBZ a NN NN in the NN VBZ RB JJ</td>\n",
       "    </tr>\n",
       "    <tr>\n",
       "      <th>5</th>\n",
       "      <td>By the way, I'm totally inspired by this freak...</td>\n",
       "      <td>0</td>\n",
       "      <td>12</td>\n",
       "      <td>by the NN NN RB VBN by this JJ JJ JJ NN</td>\n",
       "    </tr>\n",
       "    <tr>\n",
       "      <th>6</th>\n",
       "      <td>omgg i ohhdee want mcdonalds damn i wonder if ...</td>\n",
       "      <td>0</td>\n",
       "      <td>13</td>\n",
       "      <td>NN NNS VBP VBP NNS VB JJ NN if PRP$ JJ NN</td>\n",
       "    </tr>\n",
       "    <tr>\n",
       "      <th>7</th>\n",
       "      <td>Dick Cheney's dishonest speech about torture, ...</td>\n",
       "      <td>0</td>\n",
       "      <td>13</td>\n",
       "      <td>JJ NNS JJS NN about NN NN and NN VBD JJ NN NN</td>\n",
       "    </tr>\n",
       "  </tbody>\n",
       "</table>\n",
       "</div>"
      ],
      "text/plain": [
       "                                               Tweet  Category  Words  \\\n",
       "1  @ludajuice Lebron is a Beast, but I'm still ch...         0     14   \n",
       "2  @wordwhizkid Lebron is a beast... nobody in th...         0     12   \n",
       "5  By the way, I'm totally inspired by this freak...         0     12   \n",
       "6  omgg i ohhdee want mcdonalds damn i wonder if ...         0     13   \n",
       "7  Dick Cheney's dishonest speech about torture, ...         0     13   \n",
       "\n",
       "                                       Processed  \n",
       "1   @ NN VBZ a NN but NN RB VBG CD the NN the NN  \n",
       "2           @ NN VBZ a NN NN in the NN VBZ RB JJ  \n",
       "5        by the NN NN RB VBN by this JJ JJ JJ NN  \n",
       "6      NN NNS VBP VBP NNS VB JJ NN if PRP$ JJ NN  \n",
       "7  JJ NNS JJS NN about NN NN and NN VBD JJ NN NN  "
      ]
     },
     "execution_count": 1,
     "metadata": {},
     "output_type": "execute_result"
    }
   ],
   "source": [
    "import pandas as pd\n",
    "import string\n",
    "import re\n",
    "import nltk\n",
    "import time\n",
    "import compress_pickle as cpickle\n",
    "import pickle\n",
    "\n",
    "\n",
    "df = pickle.load( open( \"files/df.pickle\", \"rb\" ) )\n",
    "df['Words'] = df['Tweet'].str.count(' ') + 1\n",
    "df = df[df['Words']>=4]\n",
    "df.head()"
   ]
  },
  {
   "cell_type": "code",
   "execution_count": 2,
   "metadata": {},
   "outputs": [
    {
     "name": "stdout",
     "output_type": "stream",
     "text": [
      "5933852 Number of tweets has 3014 cols and took 261 s\n"
     ]
    }
   ],
   "source": [
    "import pickle\n",
    "from sklearn.feature_extraction.text import CountVectorizer\n",
    "\n",
    "\n",
    "# run a countvectorizer on everything\n",
    "start = time.time()\n",
    "countVectorizer1 = CountVectorizer(ngram_range=(4,4)\n",
    "                                  , max_df = .25\n",
    "                                  , min_df = .0005\n",
    "                                 )\n",
    "countVectorizer1.fit(df['Processed'])\n",
    "\n",
    "\n",
    "\n",
    "countVectorizer1.stop_words_ = None\n",
    "pickle.dump( countVectorizer1, open( \"models/countVectorizer1.pickle\", \"wb\" ) )\n",
    "\n",
    "\n",
    "\n",
    "countVector1 = countVectorizer1.transform(df['Processed'])\n",
    "pickle.dump( countVector1, open( \"files/countVector1.pickle\", \"wb\" ) )\n",
    "end = time.time()\n",
    "print('{} Number of tweets has {} cols and took {:.0f} s'.format(countVector1.shape[0], countVector1.shape[1],end-start))"
   ]
  },
  {
   "cell_type": "code",
   "execution_count": null,
   "metadata": {},
   "outputs": [],
   "source": []
  }
 ],
 "metadata": {
  "kernelspec": {
   "display_name": "Python 3",
   "language": "python",
   "name": "python3"
  },
  "language_info": {
   "codemirror_mode": {
    "name": "ipython",
    "version": 3
   },
   "file_extension": ".py",
   "mimetype": "text/x-python",
   "name": "python",
   "nbconvert_exporter": "python",
   "pygments_lexer": "ipython3",
   "version": "3.7.3"
  }
 },
 "nbformat": 4,
 "nbformat_minor": 2
}
