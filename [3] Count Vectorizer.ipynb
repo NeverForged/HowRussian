{
 "cells": [
  {
   "cell_type": "code",
   "execution_count": 1,
   "metadata": {},
   "outputs": [
    {
     "data": {
      "text/html": [
       "<div>\n",
       "<style scoped>\n",
       "    .dataframe tbody tr th:only-of-type {\n",
       "        vertical-align: middle;\n",
       "    }\n",
       "\n",
       "    .dataframe tbody tr th {\n",
       "        vertical-align: top;\n",
       "    }\n",
       "\n",
       "    .dataframe thead th {\n",
       "        text-align: right;\n",
       "    }\n",
       "</style>\n",
       "<table border=\"1\" class=\"dataframe\">\n",
       "  <thead>\n",
       "    <tr style=\"text-align: right;\">\n",
       "      <th></th>\n",
       "      <th>Tweet</th>\n",
       "      <th>Category</th>\n",
       "      <th>Retweet</th>\n",
       "      <th>Processed</th>\n",
       "    </tr>\n",
       "  </thead>\n",
       "  <tbody>\n",
       "    <tr>\n",
       "      <th>0</th>\n",
       "      <td>i love lebron. http://bit.ly/PdHur</td>\n",
       "      <td>0</td>\n",
       "      <td>False</td>\n",
       "      <td>NN love NN NN</td>\n",
       "    </tr>\n",
       "    <tr>\n",
       "      <th>1</th>\n",
       "      <td>@ludajuice Lebron is a Beast, but I'm still ch...</td>\n",
       "      <td>0</td>\n",
       "      <td>False</td>\n",
       "      <td>JJ NN is a NN but NN RB cheering CD the NN the NN</td>\n",
       "    </tr>\n",
       "    <tr>\n",
       "      <th>2</th>\n",
       "      <td>@wordwhizkid Lebron is a beast... nobody in th...</td>\n",
       "      <td>0</td>\n",
       "      <td>False</td>\n",
       "      <td>JJ NN is a NN NN in the NN comes RB JJ</td>\n",
       "    </tr>\n",
       "    <tr>\n",
       "      <th>3</th>\n",
       "      <td>Bill Simmons in conversation with Malcolm Glad...</td>\n",
       "      <td>0</td>\n",
       "      <td>False</td>\n",
       "      <td>NN NNS in NN with NN NN NN</td>\n",
       "    </tr>\n",
       "    <tr>\n",
       "      <th>4</th>\n",
       "      <td>playing with Java and the Twitter API</td>\n",
       "      <td>0</td>\n",
       "      <td>False</td>\n",
       "      <td>playing with NN and the NN NN</td>\n",
       "    </tr>\n",
       "  </tbody>\n",
       "</table>\n",
       "</div>"
      ],
      "text/plain": [
       "                                               Tweet  Category  Retweet  \\\n",
       "0                 i love lebron. http://bit.ly/PdHur         0    False   \n",
       "1  @ludajuice Lebron is a Beast, but I'm still ch...         0    False   \n",
       "2  @wordwhizkid Lebron is a beast... nobody in th...         0    False   \n",
       "3  Bill Simmons in conversation with Malcolm Glad...         0    False   \n",
       "4              playing with Java and the Twitter API         0    False   \n",
       "\n",
       "                                           Processed  \n",
       "0                                      NN love NN NN  \n",
       "1  JJ NN is a NN but NN RB cheering CD the NN the NN  \n",
       "2             JJ NN is a NN NN in the NN comes RB JJ  \n",
       "3                         NN NNS in NN with NN NN NN  \n",
       "4                      playing with NN and the NN NN  "
      ]
     },
     "execution_count": 1,
     "metadata": {},
     "output_type": "execute_result"
    }
   ],
   "source": [
    "import pandas as pd\n",
    "import string\n",
    "import re\n",
    "import nltk\n",
    "import time\n",
    "import compress_pickle as cpickle\n",
    "import pickle\n",
    "\n",
    "\n",
    "df = pickle.load( open( \"files/df.pickle\", \"rb\" ) )\n",
    "df.head()"
   ]
  },
  {
   "cell_type": "code",
   "execution_count": 2,
   "metadata": {},
   "outputs": [
    {
     "name": "stdout",
     "output_type": "stream",
     "text": [
      "8961258 Number of tweets has 5688 cols and took 505 s\n"
     ]
    }
   ],
   "source": [
    "import pickle\n",
    "from sklearn.feature_extraction.text import TfidfVectorizer\n",
    "\n",
    "\n",
    "# run a countvectorizer on everything\n",
    "start = time.time()\n",
    "countVectorizer1 =  TfidfVectorizer(ngram_range=(4,4)\n",
    "                                    , min_df = 1000\n",
    "                                   )\n",
    "countVectorizer1.fit(df['Processed'])\n",
    "\n",
    "\n",
    "\n",
    "countVectorizer1.stop_words_ = None\n",
    "pickle.dump( countVectorizer1, open( \"models/countVectorizer1.pickle\", \"wb\" ) )\n",
    "\n",
    "\n",
    "\n",
    "countVector1 = countVectorizer1.transform(df['Processed'])\n",
    "pickle.dump( countVector1, open( \"files/countVector1.pickle\", \"wb\" ) )\n",
    "end = time.time()\n",
    "print('{} Number of tweets has {} cols and took {:.0f} s'.format(countVector1.shape[0], countVector1.shape[1],end-start))"
   ]
  },
  {
   "cell_type": "code",
   "execution_count": null,
   "metadata": {},
   "outputs": [],
   "source": [
    "pickl"
   ]
  }
 ],
 "metadata": {
  "kernelspec": {
   "display_name": "Python 3",
   "language": "python",
   "name": "python3"
  },
  "language_info": {
   "codemirror_mode": {
    "name": "ipython",
    "version": 3
   },
   "file_extension": ".py",
   "mimetype": "text/x-python",
   "name": "python",
   "nbconvert_exporter": "python",
   "pygments_lexer": "ipython3",
   "version": "3.7.3"
  }
 },
 "nbformat": 4,
 "nbformat_minor": 2
}
